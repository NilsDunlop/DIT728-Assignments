{
  "cells": [
    {
      "cell_type": "markdown",
      "id": "b0e7365d49bc45f1",
      "metadata": {
        "collapsed": false,
        "jupyter": {
          "outputs_hidden": false
        },
        "id": "b0e7365d49bc45f1"
      },
      "source": [
        "# Group 5 - Module 4: Diagnostic Systems\n",
        "\n",
        "***\n",
        "### Group Members:\n",
        "* **Nils Dunlop, 20010127-2359, Applied Data Science, e-mail: gusdunlni@student.gu.se (16 hours)**\n",
        "* **Francisco Erazo, 19930613-9214, Applied Data Science, e-mail: guserafr@student.gu.se (16 hours)**\n",
        "\n",
        "#### **We hereby declare that we have both actively participated in solving every exercise. All solutions are entirely our own work, without having taken part of other solutions.\" (This is independent and additional to any declaration that you may encounter in the electronic submission system.)**"
      ]
    },
    {
      "cell_type": "markdown",
      "id": "a40ce4f1465244c7",
      "metadata": {
        "collapsed": false,
        "jupyter": {
          "outputs_hidden": false
        },
        "id": "a40ce4f1465244c7"
      },
      "source": [
        "# Assignment 4\n",
        "***"
      ]
    },
    {
      "cell_type": "markdown",
      "id": "426429e48a4209ce",
      "metadata": {
        "collapsed": false,
        "jupyter": {
          "outputs_hidden": false
        },
        "id": "426429e48a4209ce"
      },
      "source": [
        "## Problem 1: Reading and Reflection\n",
        "***\n",
        "### Machine Learning Techniques to Diagnose Breast Cancer from Image-Processed Nuclear Features of Fine Needle Aspirates\n",
        "- **Summary**:   \n",
        "The paper introduces an interactive computer system that evaluates and diagnoses breast cancer using cytologic features derived from digital scans of fine-needle aspirates (FNAs) slides. This study involved a dataset of 569 patients (212 of which were diagnosed with breast cancer) to develop the system and tested it on a separate dataset of 54 patients (36 benign, 1 atypia and 17 malignant cases). It achieved a 97% accuracy throught 10-fold cross-validation and 100% accuracy on the test set. The system utilizes digital image analysis and machine learning techniques to enhance diagnostic accuracy for breast FNAs, indicating significant potential for early detection and treatment of breast cancer.\n",
        "\n",
        "- **Key Takeaways**:\n",
        "  - **Data**: They aspirated a small drop of viscous fluid from the breast massess and smeared it on a glass slide, and scanned it with a high-resolution digital camera. The digital images were then analyzed to extract 30 features for each case (radius, perimeter, area, smoothness, compactness, concavity, concave points, symmetry, fractal dimension and texture).\n",
        "\n",
        "  - **Digital Image Analysis**: One of the main benefits of this techonology is that provides measurements of shape features besides size and texture features provided by scanning techniques.\n",
        "\n",
        "  - **MSM-Tree**: They implement MSM-Tree (MSM-T) to classify the observatinos between bening and malignant sets. Then this classifier was used to categorize new observations. They highlight that simpler classifiers outperformed more complex ones on new data. The best results were obtained with a single-plane classifier based on three nuclear features mean texture, the worst area and the worst smoothness.\n",
        "\n",
        "  - **Clinical Applications**: The system estimates the probability of an instance being malignant, this information shared with the patient so they can make a decision about performing a biopsy or monitor an apparently benign mass.\n",
        "\n",
        "  - **High Accuracy**: The system achieved a 97% predictive accuracy through 10-fold cross-validation estimating that the true prospective accuracy range between 95.5% and 98.5%. In the test set, the accuracy was 100%, indicating that the system is highly effective in diagnosing breast cancer. Important to remark they only used cell features.\n",
        "  \n",
        "  - **Advancement in Breast Cancer Detection**: The study represents an important advancement in the use of technology for breast cancer detection, indicating the potential of integrating AI and Machine Learning into the healthcare field. They also highlight that computer-assisted image analysis was better than human interpretation of the images.\n",
        "\n",
        "### The Mythos of Model Interpretability\n",
        "- **Summary**:     \n",
        "The article discusses the complex nature of interpretability within machine learning models. It highlights the lack of a unified definition of interpretability encountered in the academic literature, the diverse motivations behind seeking interpretable models, and the distinction between model transparency (understanding how a model works) and post-hoc explanations (understanding hmodel prediction after they are made).\n",
        "\n",
        "- **Key Takeaways**:    \n",
        "  - **Need for Interpretability**: Interpretability is needed when there’s a gap between what supervised learning aims to do and the real-world consequences. Sometimes, just having predictions and metrics isn’t enough to understand the model.\n",
        "    - **Trust**: Being able to interpret a model might be necessary for trust. Trust could mean believing that the model will do well in real situations. It could also mean being okay with letting the model take control.\n",
        "    \n",
        "    - **Causality**: Supervised learning models are often used hoping to learn about the natural world. But, the connections these models learn don’t always show cause and effect relationships.\n",
        "    \n",
        "    - **Transferability**: Humans are good at applying what they’ve learned to new situations. Machine learning models are also used in these situations, like when the environment changes or might be against them.\n",
        "    \n",
        "    - **Informativeness**: Sometimes, supervised models are used to give information to people making decisions. An interpretation can be useful even if it doesn’t explain how the model works.\n",
        "    \n",
        "    - **Fairness and Ethics**: Interpretations are needed to check if decisions made by algorithms are ethical. Usual evaluation metrics don’t guarantee that decisions made by machine learning will be acceptable, leading to demands for fairness and interpretable models.\n",
        "\n",
        "  - **Transparency**: This refers to understanding how the model works. It can be viewed at different levels:\n",
        "\n",
        "    - **Simulatability**: A model is considered transparent if a person can understand the entire model at once. This suggests that simpler models are more interpretable.\n",
        "\n",
        "    - **Decomposability**: This means that each part of the model (input, parameter, calculation) can be explained intuitively.\n",
        "\n",
        "    - **Algorithmic Transparency**: This applies to the learning algorithm itself. For example, in linear models, you can understand the shape of the error surface and prove that training will converge to a unique solution.\n",
        "\n",
        "  - **Post hoc interpretability**: This approach extracts information from learned models after they have been trained. It doesn’t necessarily explain how a model works, but it can provide useful information. Some common approaches include:\n",
        "    \n",
        "    - **Text Explanations**: One model generates predictions, and a separate model generates an explanation.\n",
        "    \n",
        "    - **Visualization**: Visualizations are rendered to determine what a model has learned.\n",
        "    \n",
        "    - **Local Explanations**: These explain what a model depends on locally. For example, a saliency map highlights regions of the input that would most influence the output if changed.\n",
        "\n",
        "    - **Explanation by Example**: This involves reporting which other examples are most similar with respect to the model.\n",
        "\n",
        "  - **Linear vs Deep Models**: Linear models are not always more interpretable than deep neural networks. The level of interpretability depends on the specific definition used. For example, deep neural networks can have an advantage in post hoc interpretation because they learn rich representations that can be visualized or used for clustering.\n",
        "\n",
        "  - **Claims about Interpretability**: Any claim about a model’s interpretability should be specific and meaningful. It should clearly define what form of interpretability is being referred to, such as transparency or post hoc interpretability. Also, the desire for transparency should not compromise the broader objectives of AI, such as improving healthcare.\n",
        "\n",
        "  - **Potential Misleading of Post hoc Interpretations**: Post hoc interpretations can potentially mislead, especially when they are optimized to meet subjective demands. They might present plausible but misleading explanations. Therefore, it’s important to be cautious and avoid reproducing harmful behavior when using machine learning models.\n"
      ]
    },
    {
      "cell_type": "markdown",
      "id": "b1b6dbabbbd02376",
      "metadata": {
        "collapsed": false,
        "jupyter": {
          "outputs_hidden": false
        },
        "id": "b1b6dbabbbd02376"
      },
      "source": [
        "## Problem 2: Implementation\n",
        "***"
      ]
    },
    {
      "cell_type": "code",
      "execution_count": 1,
      "id": "1d263170",
      "metadata": {
        "id": "1d263170"
      },
      "outputs": [],
      "source": [
        "# Read the data from the file wdbc.pkl\n",
        "import pickle\n",
        "\n",
        "filename = 'wdbc.pkl'\n",
        "with open(filename, 'rb') as file:\n",
        "    data = pickle.load(file)"
      ]
    },
    {
      "cell_type": "markdown",
      "id": "db955c10",
      "metadata": {
        "id": "db955c10"
      },
      "source": [
        "### Implement and Evaluate a Rule Based Classifier\n",
        "\n",
        "To implement this classifier, we need to match the features mentioned in Eickhoff's paper with the features in the dataset.\n",
        "- Cell Size Abnormal: We can use `radius` (as it relates to cell size), where larger values indicate larger cell size. We might consider    `radius_2` as an indicator of abnormal cell size.\n",
        "- Cell Shape Abnormal: We can use `perimeter` or `concavity` features, as these indicate changes in cell shape and contour irregularities. `perimeter_2` or `concavity_2` could serve as indicators here.\n",
        "- Cell Texture Abnormal: The texture feature is available in our dataset, with `texture_2` indicating abnormal texture.\n",
        "- Cell Homogeneity Abnormal: We can use `smoothness` or `compactness` features, as these indicate variations in cell surface and density. `smoothness_2` or `compactness_2` could serve as indicators of abnormal homogeneity.\n",
        "\n",
        "To define `abnormal` we can use the mean of the features as a threshold. If the value of the feature is above the mean, we can consider it as abnormal."
      ]
    },
    {
      "cell_type": "code",
      "execution_count": 2,
      "id": "fef83653",
      "metadata": {
        "colab": {
          "base_uri": "https://localhost:8080/"
        },
        "id": "fef83653",
        "outputId": "31367a08-6573-4c19-a47f-37a06e386ad6"
      },
      "outputs": [
        {
          "output_type": "execute_result",
          "data": {
            "text/plain": [
              "radius_2          16.269190\n",
              "perimeter_2      107.261213\n",
              "texture_2         25.677223\n",
              "smoothness_2       0.132369\n",
              "compactness_2      0.254265\n",
              "concavity_2        0.272188\n",
              "dtype: float64"
            ]
          },
          "metadata": {},
          "execution_count": 2
        }
      ],
      "source": [
        "# Calculate mean \"worst\" values to set as initial thresholds\n",
        "mean_values = data[['radius_2', 'perimeter_2', 'texture_2', 'smoothness_2', 'compactness_2', 'concavity_2']].mean()\n",
        "\n",
        "mean_values"
      ]
    },
    {
      "cell_type": "markdown",
      "id": "c5b18d52",
      "metadata": {
        "id": "c5b18d52"
      },
      "source": [
        "Based on the `worst` values for each of the features, we can define the following thresholds for abnormality:\n",
        "- Radius (Cell Size) Abnormal Threshold: 16.27  \n",
        "- Perimeter (Cell Shape) Abnormal Threshold: 107.26  \n",
        "- Texture (Cell Texture) Abnormal Threshold: 25.68  \n",
        "- Smoothness (Cell Homogeneity) Abnormal Threshold: 0.132  \n",
        "- Compactness (Cell Homogeneity) Abnormal Threshold: 0.254  \n",
        "- Concavity (Cell Shape) Abnormal Threshold: 0.272  \n",
        "\n",
        "The rule-based classifier will work as follows:  \n",
        "- If the `worst` value of radius, perimeter, texture, smoothness, compactness, or concavity exceeds its respective threshold, the diagnosis is considered malignant.  \n",
        "- If none of the features exceed the threshold, the diagnosis is considered benign.  "
      ]
    },
    {
      "cell_type": "code",
      "execution_count": 3,
      "id": "395eba44",
      "metadata": {
        "id": "395eba44"
      },
      "outputs": [],
      "source": [
        "# Implementing the rule-based classifier\n",
        "def rule_based_classifier(row):\n",
        "    # Define thresholds\n",
        "    thresholds = {\n",
        "        'radius_2': 16.27,\n",
        "        'perimeter_2': 107.26,\n",
        "        'texture_2': 25.68,\n",
        "        'smoothness_2': 0.132,\n",
        "        'compactness_2': 0.254,\n",
        "        'concavity_2': 0.272\n",
        "    }\n",
        "\n",
        "    # Apply rules\n",
        "    if (row['radius_2'] > thresholds['radius_2'] or\n",
        "        row['perimeter_2'] > thresholds['perimeter_2'] or\n",
        "        row['texture_2'] > thresholds['texture_2'] or\n",
        "        row['smoothness_2'] > thresholds['smoothness_2'] or\n",
        "        row['compactness_2'] > thresholds['compactness_2'] or\n",
        "        row['concavity_2'] > thresholds['concavity_2']):\n",
        "        return 1  # Malignant\n",
        "    else:\n",
        "        return 0  # Benign\n",
        "\n",
        "# Apply the classifier to each row in the dataset\n",
        "data['rule_based_diagnosis'] = data.apply(rule_based_classifier, axis=1)"
      ]
    },
    {
      "cell_type": "markdown",
      "id": "df696d6a",
      "metadata": {
        "id": "df696d6a"
      },
      "source": [
        "### Prepare the Data for the Other Models"
      ]
    },
    {
      "cell_type": "code",
      "execution_count": 4,
      "id": "056a3c57",
      "metadata": {
        "id": "056a3c57"
      },
      "outputs": [],
      "source": [
        "from sklearn.model_selection import train_test_split\n",
        "\n",
        "# Prepare the data\n",
        "X = data.drop(['id', 'malignant', 'rule_based_diagnosis'], axis=1)\n",
        "y = data['malignant']\n",
        "\n",
        "# Split the data\n",
        "X_train, X_test, y_train, y_test = train_test_split(X, y, test_size=0.2, random_state=42)"
      ]
    },
    {
      "cell_type": "markdown",
      "id": "472d3e06",
      "metadata": {
        "id": "472d3e06"
      },
      "source": [
        "### Implement and Evaluate Random Forest Classifier"
      ]
    },
    {
      "cell_type": "code",
      "execution_count": 5,
      "id": "6d0311d3",
      "metadata": {
        "id": "6d0311d3"
      },
      "outputs": [],
      "source": [
        "# Train the Random Forest Classifier\n",
        "from sklearn.ensemble import RandomForestClassifier\n",
        "\n",
        "rf_classifier = RandomForestClassifier(n_estimators=100, random_state=42)\n",
        "rf_classifier.fit(X_train, y_train)\n",
        "\n",
        "# Predict on the test set\n",
        "y_pred = rf_classifier.predict(X_test)"
      ]
    },
    {
      "cell_type": "markdown",
      "id": "c7dc9b15",
      "metadata": {
        "id": "c7dc9b15"
      },
      "source": [
        "### Implement and Evaluate a Classifier of your Choice (Naive Bayes) which attempts to Trade Off Interpretability and Classification Performance"
      ]
    },
    {
      "cell_type": "code",
      "execution_count": 6,
      "id": "f38a0151",
      "metadata": {
        "id": "f38a0151"
      },
      "outputs": [],
      "source": [
        "from sklearn.naive_bayes import GaussianNB\n",
        "\n",
        "# Initialize and train the Naive Bayes model\n",
        "nb_model = GaussianNB()\n",
        "nb_model.fit(X_train, y_train)\n",
        "\n",
        "# Predictions\n",
        "y_pred_nb = nb_model.predict(X_test)"
      ]
    },
    {
      "cell_type": "markdown",
      "id": "64f0f7d0",
      "metadata": {
        "id": "64f0f7d0"
      },
      "source": [
        "### Evaluate the Performance of the Classifiers"
      ]
    },
    {
      "cell_type": "code",
      "execution_count": 14,
      "id": "64d15836",
      "metadata": {
        "colab": {
          "base_uri": "https://localhost:8080/",
          "height": 472
        },
        "id": "64d15836",
        "outputId": "6c3e03a6-26f2-41f6-975f-1388dd221247"
      },
      "outputs": [
        {
          "output_type": "display_data",
          "data": {
            "text/plain": [
              "<Figure size 640x480 with 1 Axes>"
            ],
            "image/png": "[encoded data removed]"
          },
          "metadata": {}
        }
      ],
      "source": [
        "# Confusion matrix Rule-based classifier\n",
        "from sklearn.metrics import confusion_matrix\n",
        "import matplotlib.pyplot as plt\n",
        "import seaborn as sns\n",
        "\n",
        "\n",
        "def plot_confusion_matrix(title, cm):\n",
        "    sns.heatmap(cm, annot=True, fmt=\"d\", cmap=\"Blues\", xticklabels=['Benign', 'Malignant'], yticklabels=['Benign', 'Malignant'], cbar=False)\n",
        "    plt.ylabel('Actual')\n",
        "    plt.xlabel('Predicted')\n",
        "    plt.title(title)\n",
        "    plt.show()\n",
        "\n",
        "rb_cm = confusion_matrix(data['malignant'], data['rule_based_diagnosis']) # CM considers all observations\n",
        "\n",
        "plot_confusion_matrix(\"Confusion Matrix - Rule-Based\", rb_cm)"
      ]
    },
    {
      "cell_type": "code",
      "execution_count": 15,
      "id": "115077c5",
      "metadata": {
        "colab": {
          "base_uri": "https://localhost:8080/",
          "height": 472
        },
        "id": "115077c5",
        "outputId": "c85de212-e075-4d29-bf31-96a3b755755f"
      },
      "outputs": [
        {
          "output_type": "display_data",
          "data": {
            "text/plain": [
              "<Figure size 640x480 with 1 Axes>"
            ],
            "image/png": "[encoded data removed]"
          },
          "metadata": {}
        }
      ],
      "source": [
        "# Confusion matrix Random Forest Classifier\n",
        "rf_cm = confusion_matrix(y_test, y_pred)\n",
        "\n",
        "plot_confusion_matrix(\"Confusion Matrix - Random Forest\", rf_cm)\n"
      ]
    },
    {
      "cell_type": "code",
      "source": [
        "# Confusion matrix Naive Bayes\n",
        "nb_cm = confusion_matrix(y_test, y_pred_nb)\n",
        "\n",
        "plot_confusion_matrix(\"Confusion Matrix - Naive Bayes\", nb_cm)"
      ],
      "metadata": {
        "colab": {
          "base_uri": "https://localhost:8080/",
          "height": 472
        },
        "id": "rD-vCM4nVQy6",
        "outputId": "a3ad88cc-1e0c-4188-9983-c18e011c9a93"
      },
      "id": "rD-vCM4nVQy6",
      "execution_count": 16,
      "outputs": [
        {
          "output_type": "display_data",
          "data": {
            "text/plain": [
              "<Figure size 640x480 with 1 Axes>"
            ],
            "image/png": "[encoded data removed]"
          },
          "metadata": {}
        }
      ]
    },
    {
      "cell_type": "code",
      "execution_count": 10,
      "id": "26b47038",
      "metadata": {
        "colab": {
          "base_uri": "https://localhost:8080/"
        },
        "id": "26b47038",
        "outputId": "21a29ff9-615f-4ef5-eb6b-02c41173a305"
      },
      "outputs": [
        {
          "output_type": "stream",
          "name": "stdout",
          "text": [
            "Rule-based Classifier:\n",
            "Accuracy: 0.5817223198594025\n",
            "Precision: 0.47085201793721976\n",
            "Recall: 0.9905660377358491\n",
            "F1-score: 0.6382978723404256\n",
            "\n",
            "Random Forest Classifier:\n",
            "Accuracy: 0.9649122807017544\n",
            "Precision: 0.975609756097561\n",
            "Recall: 0.9302325581395349\n",
            "F1-score: 0.9523809523809524\n",
            "\n",
            "Naive Bayes Classifier:\n",
            "Accuracy: 0.9736842105263158\n",
            "Precision: 1.0\n",
            "Recall: 0.9302325581395349\n",
            "F1-score: 0.963855421686747\n"
          ]
        }
      ],
      "source": [
        "from sklearn.metrics import accuracy_score, precision_score, recall_score, f1_score\n",
        "\n",
        "# Evaluate the rule-based classifier\n",
        "rb_accuracy = accuracy_score(data['malignant'], data['rule_based_diagnosis'])\n",
        "rb_precision = precision_score(data['malignant'], data['rule_based_diagnosis'])\n",
        "rb_recall = recall_score(data['malignant'], data['rule_based_diagnosis'])\n",
        "rb_f1_score = f1_score(data['malignant'], data['rule_based_diagnosis'])\n",
        "\n",
        "# Evaluate Random Forest Classifier\n",
        "rf_accuracy = accuracy_score(y_test, y_pred)\n",
        "rf_precision = precision_score(y_test, y_pred)\n",
        "rf_recall = recall_score(y_test, y_pred)\n",
        "rf_f1_score = f1_score(y_test, y_pred)\n",
        "\n",
        "# Evaluate Naive Bayes Classifier\n",
        "nb_accuracy = accuracy_score(y_test, y_pred_nb)\n",
        "nb_precision = precision_score(y_test, y_pred_nb)\n",
        "nb_recall = recall_score(y_test, y_pred_nb)\n",
        "nb_f1_score = f1_score(y_test, y_pred_nb)\n",
        "\n",
        "# Print the evaluation results\n",
        "print(\"Rule-based Classifier:\")\n",
        "print(\"Accuracy:\", rb_accuracy)\n",
        "print(\"Precision:\", rb_precision)\n",
        "print(\"Recall:\", rb_recall)\n",
        "print(\"F1-score:\", rb_f1_score)\n",
        "print()\n",
        "print(\"Random Forest Classifier:\")\n",
        "print(\"Accuracy:\", rf_accuracy)\n",
        "print(\"Precision:\", rf_precision)\n",
        "print(\"Recall:\", rf_recall)\n",
        "print(\"F1-score:\", rf_f1_score)\n",
        "print()\n",
        "print(\"Naive Bayes Classifier:\")\n",
        "print(\"Accuracy:\", nb_accuracy)\n",
        "print(\"Precision:\", nb_precision)\n",
        "print(\"Recall:\", nb_recall)\n",
        "print(\"F1-score:\", nb_f1_score)\n"
      ]
    },
    {
      "cell_type": "markdown",
      "source": [
        "\n",
        "### Summary of Metrics\n",
        "| Metric    | Rule-based Classifier | Random Forest Classifier | Naive Bayes Classifier |\n",
        "|-----------|-----------------------|--------------------------|------------------------|\n",
        "| Accuracy  | 0.5817                | 0.9649                   | 0.9737                 |\n",
        "| Precision | 0.4709                | 0.9756                   | 1.0000                 |\n",
        "| Recall    | 0.9906                | 0.9302                   | 0.9302                 |\n",
        "| F1-score  | 0.6383                | 0.9524                   | 0.9639                 |\n"
      ],
      "metadata": {
        "id": "EkiVx6SOWsGX"
      },
      "id": "EkiVx6SOWsGX"
    },
    {
      "cell_type": "markdown",
      "id": "abc48290c4db11b3",
      "metadata": {
        "collapsed": false,
        "jupyter": {
          "outputs_hidden": false
        },
        "id": "abc48290c4db11b3"
      },
      "source": [
        "## Problem 3: Discussion\n",
        "***"
      ]
    },
    {
      "cell_type": "markdown",
      "id": "b1a71987",
      "metadata": {
        "id": "b1a71987"
      },
      "source": [
        "## References:\n",
        "***\n",
        "-"
      ]
    },
    {
      "cell_type": "markdown",
      "id": "3c902e53e01be6b5",
      "metadata": {
        "collapsed": false,
        "jupyter": {
          "outputs_hidden": false
        },
        "id": "3c902e53e01be6b5"
      },
      "source": [
        "## Self Check\n",
        "***\n",
        "- Have you answered all questions to the best of your ability?\n",
        "Yes, we have.\n",
        "- Is all the required information on the front page, is the file name correct etc.?\n",
        "Indeed, all the required information on the front page has been included.\n",
        "- Anything else you can easily check? (details, terminology, arguments, clearly stated answers etc.?)\n",
        "We have checked, and everything looks good."
      ]
    }
  ],
  "metadata": {
    "kernelspec": {
      "display_name": "Python 3 (ipykernel)",
      "language": "python",
      "name": "python3"
    },
    "language_info": {
      "codemirror_mode": {
        "name": "ipython",
        "version": 3
      },
      "file_extension": ".py",
      "mimetype": "text/x-python",
      "name": "python",
      "nbconvert_exporter": "python",
      "pygments_lexer": "ipython3",
      "version": "3.11.5"
    },
    "colab": {
      "provenance": []
    }
  },
  "nbformat": 4,
  "nbformat_minor": 5
}