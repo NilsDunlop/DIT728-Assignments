{
 "cells": [
  {
   "cell_type": "markdown",
   "source": [
    "## Assignment 1: AI Problem Solving\n",
    "***\n",
    "## Group Members:\n",
    "### Nils Dunlop, e-mail: gusdunlni@student.gu.se\n",
    "### Francisco Alejandro Erazo Piza, e-mail: guserafr@student.gu.se"
   ],
   "metadata": {
    "collapsed": false
   },
   "id": "3d3015b54e8fec5a"
  },
  {
   "cell_type": "markdown",
   "source": [
    "## Problem 1: Predict the Temperature\n",
    "- For the next weekend\n",
    "- For the same date as today but next year\n",
    "\n",
    "### Characterization\n",
    "1. **Function:** This problem can be modeled as a regression problem where the goal is to predict a continuous value (temperature) based on other variables (like date, time, historical temperature data and geographical location).\n",
    "2. **Dynamic System:** Weather is inherently dynamic, with changes over time being significant. Therefore, this problem also fits into the dynamic system model where the current state (current weather conditions) influences future states (future temperatures).\n",
    "3. **Relevant Characteristics:**\n",
    "- Temporal data is crucial as historical weather patterns greatly inform predictions.\n",
    "- Geographical variables are also key as weather patterns vary significantly by location.\n",
    "- External factors like climate change might influence long-term predictions.\n",
    "\n",
    "### Possible Solutions\n",
    "1. **Statistics**: \n",
    "- **Time Series Analysis:** Utilize statistical methods like Autoregressive Integrated Moving Average (ARIMA) Prediction Model for short-term predictions (such as the next weekend). ARIMA is a statistical model that uses time series data to predict future trends and would be effective for short-term predictions.\n",
    "2. **Machine Learning**:\n",
    "- **Machine Learning Models:** Employ models like Random Forests or Neural Network, which can handle multiple variables and are effective for both short-term and long-term predictions.\n",
    "\n",
    "### Suggested Solution\n",
    "Given the complexity of weather patterns, a combination of time series analysis and machine learning might offer the most robust solution. For next weekend's prediction, focus on short-term patterns and recent data. For next year's prediction, incorporate long-term trends and potential climatic shifts."
   ],
   "metadata": {
    "collapsed": false
   },
   "id": "1dab0839cc46b3ca"
  },
  {
   "cell_type": "markdown",
   "source": [
    "## Problem 2: Bingo lottery problem\n",
    "### Characterization\n",
    "1. **Constraint Satisfaction Problem:** The goal of selecting a set of numbers to ensure exactly 120 winning tickets with no ticket winning more than once can be modeled as a constraint satisfaction problem. The constraints include the number of winning tickets and the condition that each ticket can only win once.\n",
    "2. **Optimization Problem:** This problem can also be framed as an optimization problem where the objective is to minimize the difference from the desired 120 winning tickets while holding true to the constraints.\n",
    "3. **Discrete Algorithmic Problem:** Furthermore, the problem fits into a discrete algorithmic framework given the finite set of numbers (1 to 25) and a fixed number of tickets (1000).\n",
    "4. Relevant Characteristics:\n",
    "- The randomness in the distribution of numbers across tickets.\n",
    "- The need for balance in the draw to avoid multiple wins on a single ticket.\n",
    "- A finite and discrete set of numbers and tickets.\n",
    "\n",
    "### Possible Solutions\n",
    "1. **Constraint Satisfaction Problem:**\n",
    "- Constraint programming can effectively address the bingo lottery problem by defining variables and constraints, such as ensuring a single win per ticket and aiming for 120 winners. It involves selecting a set of numbers that meet these conditions and using constraint solvers to efficiently find solutions, focusing on optimal distribution of numbers across the tickets to maintain balance and fairness.\n",
    "2. **Optimization Problem:**\n",
    "- Linear Programming or Integer Programming could be used to find an optimal set of numbers that maximizes the number of winners (up to 120) while ensuring that no ticket wins more than once.\n",
    "3. **Discrete Algorithmic Problem:**\n",
    "- Algorithms such as backtracking could be applied especially for searching through combinations of numbers to find a set that meets the criteria.\n",
    "\n",
    "### Suggested Solution\n",
    "Given the specificity of the problem,constraint programming or optimization techniques might offer the most optimal approach. These methods can explicitly incorporate the problem's constraints and seek solutions that satisfy them. "
   ],
   "metadata": {
    "collapsed": false
   },
   "id": "7c3b650ecc921d1e"
  },
  {
   "cell_type": "markdown",
   "source": [
    "## Problem 3: Public Transport Departure Forecast\n",
    "### Characterization\n"
   ],
   "metadata": {
    "collapsed": false
   },
   "id": "92c1f4180e9c7046"
  },
  {
   "cell_type": "code",
   "outputs": [],
   "source": [],
   "metadata": {
    "collapsed": false
   },
   "id": "de379ec8376cf506"
  }
 ],
 "metadata": {
  "kernelspec": {
   "display_name": "Python 3",
   "language": "python",
   "name": "python3"
  },
  "language_info": {
   "codemirror_mode": {
    "name": "ipython",
    "version": 2
   },
   "file_extension": ".py",
   "mimetype": "text/x-python",
   "name": "python",
   "nbconvert_exporter": "python",
   "pygments_lexer": "ipython2",
   "version": "2.7.6"
  }
 },
 "nbformat": 4,
 "nbformat_minor": 5
}
