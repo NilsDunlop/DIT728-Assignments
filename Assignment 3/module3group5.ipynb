{
 "cells": [
  {
   "cell_type": "markdown",
   "id": "b0e7365d49bc45f1",
   "metadata": {
    "collapsed": false
   },
   "source": [
    "# Group 5 - Module 2: Recommendation Systems\n",
    "\n",
    "***\n",
    "### Group Members:\n",
    "* **Nils Dunlop, 20010127-2359, Applied Data Science, e-mail: gusdunlni@student.gu.se (14 hours)**\n",
    "* **Francisco Erazo, 19930613-9214, Applied Data Science, e-mail: guserafr@student.gu.se (14 hours)**\n",
    "\n",
    "#### **We hereby declare that we have both actively participated in solving every exercise. All solutions are entirely our own work, without having taken part of other solutions.\" (This is independent and additional to any declaration that you may encounter in the electronic submission system.)**"
   ]
  },
  {
   "cell_type": "markdown",
   "id": "a40ce4f1465244c7",
   "metadata": {
    "collapsed": false
   },
   "source": [
    "# Assignment 3\n",
    "***"
   ]
  },
  {
   "cell_type": "markdown",
   "id": "426429e48a4209ce",
   "metadata": {
    "collapsed": false
   },
   "source": [
    "## Problem 1: Reading and Reflection: \"The Hidden Technical Debt in Machine Learning Systems\".\n",
    "***\n",
    "\n",
    "### Key Takeaways:\n",
    "- **Complexity and Maintenance Costs:** Machine learning systems present unique challenges in software engineering such as notable high maintenance costs and complexity due to ML-specific issues leading to technical debt.\n",
    "- **System-Level Issues:** The paper outlines system-level issues like boundary erosion, entanglement, hidden feedback loops, undeclared consumers, and data dependencies that contribute significantly to technical debt in ML systems.\n",
    "- **Data Dependencies:** Data dependencies in ML systems are harder to detect and manage which could lead to unstable and underutilized data dependencies that increase technical debt.\n",
    "- **Feedback Loops and Anti-Patterns:** Feedback loops can influence ML system behavior which can complicate maintenance. The paper also mentions the system design anti-patterns such as glue code, pipeline jungles, dead experimental codepaths, and abstraction debt which can exacerbate technical debt.\n",
    "- **Configuration Debt:** The configuration of ML systems can become complex and error-prone which can contribute to technical debt.\n",
    "\n",
    "### Design Features:\n",
    "- **Awareness and Mitigation:** Awareness of technical debt and proactive mitigation strategies are essential for maintaining and evolving ML systems efficiently.\n",
    "- **System Design Considerations:** The paper emphasizes the importance of considering ML-specific issues in system design to prevent the accrual of technical debt.\n",
    "- **Cultural Shift in ML Teams:** Encourages a cultural shift in ML teams to prioritize technical debt reduction alongside model accuracy improvements for the long-term health of ML systems."
   ]
  },
  {
   "cell_type": "markdown",
   "id": "b1b6dbabbbd02376",
   "metadata": {
    "collapsed": false
   },
   "source": [
    "## Problem 2: Implementation\n",
    "***"
   ]
  },
  {
   "cell_type": "code",
   "execution_count": 38,
   "id": "84fe1d573830a1ff",
   "metadata": {
    "ExecuteTime": {
     "end_time": "2024-02-02T09:14:58.065110Z",
     "start_time": "2024-02-02T09:14:55.448304700Z"
    },
    "collapsed": false
   },
   "outputs": [
    {
     "data": {
      "text/html": [
       "<div>\n",
       "<style scoped>\n",
       "    .dataframe tbody tr th:only-of-type {\n",
       "        vertical-align: middle;\n",
       "    }\n",
       "\n",
       "    .dataframe tbody tr th {\n",
       "        vertical-align: top;\n",
       "    }\n",
       "\n",
       "    .dataframe thead th {\n",
       "        text-align: right;\n",
       "    }\n",
       "</style>\n",
       "<table border=\"1\" class=\"dataframe\">\n",
       "  <thead>\n",
       "    <tr style=\"text-align: right;\">\n",
       "      <th></th>\n",
       "      <th>season</th>\n",
       "      <th>DEWP</th>\n",
       "      <th>HUMI</th>\n",
       "      <th>PRES</th>\n",
       "      <th>TEMP</th>\n",
       "      <th>Iws</th>\n",
       "      <th>precipitation</th>\n",
       "      <th>cbwd_NE</th>\n",
       "      <th>cbwd_NW</th>\n",
       "      <th>cbwd_SE</th>\n",
       "      <th>PM_HIGH</th>\n",
       "    </tr>\n",
       "  </thead>\n",
       "  <tbody>\n",
       "    <tr>\n",
       "      <th>0</th>\n",
       "      <td>4</td>\n",
       "      <td>-8.0</td>\n",
       "      <td>79.0</td>\n",
       "      <td>1026.0</td>\n",
       "      <td>-5.0</td>\n",
       "      <td>23.69</td>\n",
       "      <td>0.0</td>\n",
       "      <td>0</td>\n",
       "      <td>0</td>\n",
       "      <td>1</td>\n",
       "      <td>1.0</td>\n",
       "    </tr>\n",
       "    <tr>\n",
       "      <th>1</th>\n",
       "      <td>4</td>\n",
       "      <td>-11.0</td>\n",
       "      <td>85.0</td>\n",
       "      <td>1021.0</td>\n",
       "      <td>-9.0</td>\n",
       "      <td>105.93</td>\n",
       "      <td>1.1</td>\n",
       "      <td>0</td>\n",
       "      <td>0</td>\n",
       "      <td>1</td>\n",
       "      <td>0.0</td>\n",
       "    </tr>\n",
       "    <tr>\n",
       "      <th>2</th>\n",
       "      <td>4</td>\n",
       "      <td>-21.0</td>\n",
       "      <td>43.0</td>\n",
       "      <td>1030.0</td>\n",
       "      <td>-11.0</td>\n",
       "      <td>117.55</td>\n",
       "      <td>0.0</td>\n",
       "      <td>0</td>\n",
       "      <td>1</td>\n",
       "      <td>0</td>\n",
       "      <td>0.0</td>\n",
       "    </tr>\n",
       "    <tr>\n",
       "      <th>3</th>\n",
       "      <td>4</td>\n",
       "      <td>-25.0</td>\n",
       "      <td>33.0</td>\n",
       "      <td>1034.0</td>\n",
       "      <td>-12.0</td>\n",
       "      <td>39.35</td>\n",
       "      <td>0.0</td>\n",
       "      <td>1</td>\n",
       "      <td>0</td>\n",
       "      <td>0</td>\n",
       "      <td>0.0</td>\n",
       "    </tr>\n",
       "    <tr>\n",
       "      <th>4</th>\n",
       "      <td>4</td>\n",
       "      <td>-24.0</td>\n",
       "      <td>30.0</td>\n",
       "      <td>1034.0</td>\n",
       "      <td>-10.0</td>\n",
       "      <td>59.00</td>\n",
       "      <td>0.0</td>\n",
       "      <td>1</td>\n",
       "      <td>0</td>\n",
       "      <td>0</td>\n",
       "      <td>0.0</td>\n",
       "    </tr>\n",
       "    <tr>\n",
       "      <th>...</th>\n",
       "      <td>...</td>\n",
       "      <td>...</td>\n",
       "      <td>...</td>\n",
       "      <td>...</td>\n",
       "      <td>...</td>\n",
       "      <td>...</td>\n",
       "      <td>...</td>\n",
       "      <td>...</td>\n",
       "      <td>...</td>\n",
       "      <td>...</td>\n",
       "      <td>...</td>\n",
       "    </tr>\n",
       "    <tr>\n",
       "      <th>2066</th>\n",
       "      <td>4</td>\n",
       "      <td>-15.0</td>\n",
       "      <td>45.0</td>\n",
       "      <td>1040.0</td>\n",
       "      <td>-5.0</td>\n",
       "      <td>1.79</td>\n",
       "      <td>0.0</td>\n",
       "      <td>0</td>\n",
       "      <td>1</td>\n",
       "      <td>0</td>\n",
       "      <td>0.0</td>\n",
       "    </tr>\n",
       "    <tr>\n",
       "      <th>2067</th>\n",
       "      <td>4</td>\n",
       "      <td>-13.0</td>\n",
       "      <td>34.0</td>\n",
       "      <td>1036.0</td>\n",
       "      <td>1.0</td>\n",
       "      <td>40.24</td>\n",
       "      <td>0.0</td>\n",
       "      <td>0</td>\n",
       "      <td>1</td>\n",
       "      <td>0</td>\n",
       "      <td>0.0</td>\n",
       "    </tr>\n",
       "    <tr>\n",
       "      <th>2068</th>\n",
       "      <td>4</td>\n",
       "      <td>-8.0</td>\n",
       "      <td>50.0</td>\n",
       "      <td>1028.0</td>\n",
       "      <td>1.0</td>\n",
       "      <td>1.79</td>\n",
       "      <td>0.0</td>\n",
       "      <td>0</td>\n",
       "      <td>1</td>\n",
       "      <td>0</td>\n",
       "      <td>1.0</td>\n",
       "    </tr>\n",
       "    <tr>\n",
       "      <th>2069</th>\n",
       "      <td>4</td>\n",
       "      <td>-11.0</td>\n",
       "      <td>28.0</td>\n",
       "      <td>1031.0</td>\n",
       "      <td>6.0</td>\n",
       "      <td>23.24</td>\n",
       "      <td>0.0</td>\n",
       "      <td>0</td>\n",
       "      <td>1</td>\n",
       "      <td>0</td>\n",
       "      <td>0.0</td>\n",
       "    </tr>\n",
       "    <tr>\n",
       "      <th>2070</th>\n",
       "      <td>4</td>\n",
       "      <td>-10.0</td>\n",
       "      <td>37.0</td>\n",
       "      <td>1033.0</td>\n",
       "      <td>3.0</td>\n",
       "      <td>0.89</td>\n",
       "      <td>0.0</td>\n",
       "      <td>0</td>\n",
       "      <td>0</td>\n",
       "      <td>0</td>\n",
       "      <td>0.0</td>\n",
       "    </tr>\n",
       "  </tbody>\n",
       "</table>\n",
       "<p>2071 rows × 11 columns</p>\n",
       "</div>"
      ],
      "text/plain": [
       "      season  DEWP  HUMI    PRES  TEMP     Iws  precipitation  cbwd_NE  \\\n",
       "0          4  -8.0  79.0  1026.0  -5.0   23.69            0.0        0   \n",
       "1          4 -11.0  85.0  1021.0  -9.0  105.93            1.1        0   \n",
       "2          4 -21.0  43.0  1030.0 -11.0  117.55            0.0        0   \n",
       "3          4 -25.0  33.0  1034.0 -12.0   39.35            0.0        1   \n",
       "4          4 -24.0  30.0  1034.0 -10.0   59.00            0.0        1   \n",
       "...      ...   ...   ...     ...   ...     ...            ...      ...   \n",
       "2066       4 -15.0  45.0  1040.0  -5.0    1.79            0.0        0   \n",
       "2067       4 -13.0  34.0  1036.0   1.0   40.24            0.0        0   \n",
       "2068       4  -8.0  50.0  1028.0   1.0    1.79            0.0        0   \n",
       "2069       4 -11.0  28.0  1031.0   6.0   23.24            0.0        0   \n",
       "2070       4 -10.0  37.0  1033.0   3.0    0.89            0.0        0   \n",
       "\n",
       "      cbwd_NW  cbwd_SE  PM_HIGH  \n",
       "0           0        1      1.0  \n",
       "1           0        1      0.0  \n",
       "2           1        0      0.0  \n",
       "3           0        0      0.0  \n",
       "4           0        0      0.0  \n",
       "...       ...      ...      ...  \n",
       "2066        1        0      0.0  \n",
       "2067        1        0      0.0  \n",
       "2068        1        0      1.0  \n",
       "2069        1        0      0.0  \n",
       "2070        0        0      0.0  \n",
       "\n",
       "[2071 rows x 11 columns]"
      ]
     },
     "execution_count": 38,
     "metadata": {},
     "output_type": "execute_result"
    }
   ],
   "source": [
    "import pandas as pd\n",
    "from sklearn.cluster import KMeans\n",
    "from scipy.stats import mode\n",
    "import numpy as np\n",
    "from sklearn.model_selection import train_test_split\n",
    "import matplotlib.pyplot as plt\n",
    "from sklearn.metrics import silhouette_score\n",
    "\n",
    "df_beijing = pd.read_csv('Beijing_labeled.csv')\n",
    "df_chengdu = pd.read_csv('Chengdu_labeled.csv')\n",
    "df_guangzhou = pd.read_csv('Guangzhou_labeled.csv')\n",
    "df_shanghai = pd.read_csv('Shanghai_labeled.csv')\n",
    "df_shenyang = pd.read_csv('Shenyang_labeled.csv')\n",
    "\n",
    "df_beijing"
   ]
  },
  {
   "cell_type": "code",
   "execution_count": 39,
   "id": "96b6eadf7a3a46f3",
   "metadata": {
    "ExecuteTime": {
     "end_time": "2024-02-02T09:14:58.112642200Z",
     "start_time": "2024-02-02T09:14:58.065110Z"
    },
    "collapsed": false
   },
   "outputs": [],
   "source": [
    "# Combine the datasets for Beijing, Chengdu, and Shenyang\n",
    "df_combined = pd.concat([df_beijing, df_chengdu, df_shenyang], ignore_index=True)\n",
    "\n",
    "# Reset the index to avoid any potential issues with non-sequential indices\n",
    "df_combined.reset_index(drop=True, inplace=True)\n",
    "\n",
    "# Split the combined dataset into features and target\n",
    "X_combined = df_combined.drop(columns=['PM_HIGH'])\n",
    "y_combined = df_combined['PM_HIGH']\n",
    "\n",
    "# Split the combined dataset into training and validation sets\n",
    "X_train_combined, X_val_combined, y_train_combined, y_val_combined = train_test_split(\n",
    "    X_combined, y_combined, test_size=0.2, random_state=42)\n",
    "\n",
    "\n",
    "# Prepare the testing sets for Guangzhou and Shanghai\n",
    "X_test_guangzhou = df_guangzhou.drop(columns=['PM_HIGH']).reset_index(drop=True)\n",
    "y_test_guangzhou = df_guangzhou['PM_HIGH'].reset_index(drop=True)\n",
    "\n",
    "X_test_shanghai = df_shanghai.drop(columns=['PM_HIGH']).reset_index(drop=True)\n",
    "y_test_shanghai = df_shanghai['PM_HIGH'].reset_index(drop=True)"
   ]
  },
  {
   "cell_type": "code",
   "execution_count": 43,
   "id": "5e779a39",
   "metadata": {},
   "outputs": [
    {
     "data": {
      "text/plain": [
       "PM_HIGH\n",
       "0.0    2300\n",
       "1.0     904\n",
       "Name: count, dtype: int64"
      ]
     },
     "execution_count": 43,
     "metadata": {},
     "output_type": "execute_result"
    }
   ],
   "source": [
    "y_train_combined.value_counts()"
   ]
  },
  {
   "cell_type": "code",
   "execution_count": 44,
   "id": "d613049b",
   "metadata": {},
   "outputs": [
    {
     "data": {
      "text/plain": [
       "PM_HIGH\n",
       "0.0    581\n",
       "1.0    220\n",
       "Name: count, dtype: int64"
      ]
     },
     "execution_count": 44,
     "metadata": {},
     "output_type": "execute_result"
    }
   ],
   "source": [
    "y_val_combined.value_counts()"
   ]
  },
  {
   "cell_type": "code",
   "execution_count": 40,
   "id": "caa5e6dfd31ee2ac",
   "metadata": {
    "ExecuteTime": {
     "end_time": "2024-02-02T09:14:58.145646700Z",
     "start_time": "2024-02-02T09:14:58.096117Z"
    },
    "collapsed": false
   },
   "outputs": [],
   "source": [
    "class KMeansClassifier:\n",
    "    def __init__(self, n_clusters):\n",
    "        self.n_clusters = n_clusters\n",
    "        self.kmeans = KMeans(n_clusters=self.n_clusters)\n",
    "        self.labels_map = {}\n",
    "        self.inertia_ = None\n",
    "\n",
    "    def fit(self, X, y):\n",
    "        # Fit the k-means algorithm to the data\n",
    "        self.kmeans.fit(X)\n",
    "        self.inertia_ = self.kmeans.inertia_\n",
    "\n",
    "        # Predict the clusters\n",
    "        clusters = self.kmeans.predict(X)\n",
    "\n",
    "        # Create a mapping from each cluster to a label\n",
    "        for cluster in range(self.n_clusters):\n",
    "            cluster_indices = np.where(clusters == cluster)[0]\n",
    "            cluster_labels = y.iloc[cluster_indices]\n",
    "            majority_label = mode(cluster_labels, keepdims=False).mode\n",
    "\n",
    "            # Ensure that majority_label is treated as an array\n",
    "            if np.isscalar(majority_label):\n",
    "                majority_label = np.array([majority_label])\n",
    "\n",
    "            # Map the cluster to the majority label\n",
    "            self.labels_map[cluster] = majority_label[0]\n",
    "\n",
    "    def predict(self, X):\n",
    "        # Find the nearest centroid for each point in X\n",
    "        clusters = self.kmeans.predict(X)\n",
    "\n",
    "        # Predict the label based on the nearest centroid\n",
    "        predicted_labels = np.vectorize(self.labels_map.get)(clusters)\n",
    "        return predicted_labels\n",
    "\n",
    "    def score(self, X, y):\n",
    "        # Predict the labels for X\n",
    "        predicted_labels = self.predict(X)\n",
    "\n",
    "        # Calculate the accuracy as the fraction of correctly predicted labels\n",
    "        accuracy = np.mean(predicted_labels == y)\n",
    "        return accuracy\n"
   ]
  },
  {
   "cell_type": "code",
   "execution_count": 41,
   "id": "7704bf4c6148e7a8",
   "metadata": {
    "ExecuteTime": {
     "end_time": "2024-02-02T09:14:58.491092700Z",
     "start_time": "2024-02-02T09:14:58.109645300Z"
    },
    "collapsed": false
   },
   "outputs": [
    {
     "name": "stderr",
     "output_type": "stream",
     "text": [
      "/Users/faerazo/opt/miniconda3/envs/general/lib/python3.11/site-packages/sklearn/cluster/_kmeans.py:870: FutureWarning: The default value of `n_init` will change from 10 to 'auto' in 1.4. Set the value of `n_init` explicitly to suppress the warning\n",
      "  warnings.warn(\n"
     ]
    },
    {
     "name": "stdout",
     "output_type": "stream",
     "text": [
      "Training Accuracy (Beijing, Chengdu, Shenyang): 0.72\n",
      "Validation Accuracy (Beijing, Chengdu, Shenyang): 0.73\n",
      "Test Accuracy for Guangzhou: 0.94\n",
      "Test Accuracy for Shanghai: 0.90\n"
     ]
    }
   ],
   "source": [
    "# Initialize the classifier\n",
    "# Optimal number of clusters was determined below to be 2\n",
    "classifier = KMeansClassifier(n_clusters=1)\n",
    "\n",
    "# Train the classifier on the combined training set\n",
    "classifier.fit(X_train_combined, y_train_combined)\n",
    "\n",
    "# Training accuracy\n",
    "training_accuracy = classifier.score(X_train_combined, y_train_combined)\n",
    "\n",
    "# Validate the classifier on the combined validation set\n",
    "validation_accuracy = classifier.score(X_val_combined, y_val_combined)\n",
    "\n",
    "# Evaluate on Guangzhou data\n",
    "test_accuracy_guangzhou = classifier.score(X_test_guangzhou, y_test_guangzhou)\n",
    "\n",
    "# Evaluate on Shanghai data\n",
    "test_accuracy_shanghai = classifier.score(X_test_shanghai, y_test_shanghai)\n",
    "\n",
    "print(f\"Training Accuracy (Beijing, Chengdu, Shenyang): {training_accuracy:.2f}\")\n",
    "print(f\"Validation Accuracy (Beijing, Chengdu, Shenyang): {validation_accuracy:.2f}\")\n",
    "print(f\"Test Accuracy for Guangzhou: {test_accuracy_guangzhou:.2f}\")\n",
    "print(f\"Test Accuracy for Shanghai: {test_accuracy_shanghai:.2f}\")"
   ]
  },
  {
   "cell_type": "code",
   "execution_count": 42,
   "id": "5168dc79d802c5e1",
   "metadata": {
    "ExecuteTime": {
     "end_time": "2024-02-02T09:15:04.013391200Z",
     "start_time": "2024-02-02T09:14:58.484097400Z"
    },
    "collapsed": false
   },
   "outputs": [
    {
     "name": "stderr",
     "output_type": "stream",
     "text": [
      "/Users/faerazo/opt/miniconda3/envs/general/lib/python3.11/site-packages/sklearn/cluster/_kmeans.py:870: FutureWarning: The default value of `n_init` will change from 10 to 'auto' in 1.4. Set the value of `n_init` explicitly to suppress the warning\n",
      "  warnings.warn(\n",
      "/Users/faerazo/opt/miniconda3/envs/general/lib/python3.11/site-packages/sklearn/cluster/_kmeans.py:870: FutureWarning: The default value of `n_init` will change from 10 to 'auto' in 1.4. Set the value of `n_init` explicitly to suppress the warning\n",
      "  warnings.warn(\n",
      "/Users/faerazo/opt/miniconda3/envs/general/lib/python3.11/site-packages/sklearn/cluster/_kmeans.py:870: FutureWarning: The default value of `n_init` will change from 10 to 'auto' in 1.4. Set the value of `n_init` explicitly to suppress the warning\n",
      "  warnings.warn(\n",
      "/Users/faerazo/opt/miniconda3/envs/general/lib/python3.11/site-packages/sklearn/cluster/_kmeans.py:870: FutureWarning: The default value of `n_init` will change from 10 to 'auto' in 1.4. Set the value of `n_init` explicitly to suppress the warning\n",
      "  warnings.warn(\n",
      "/Users/faerazo/opt/miniconda3/envs/general/lib/python3.11/site-packages/sklearn/cluster/_kmeans.py:870: FutureWarning: The default value of `n_init` will change from 10 to 'auto' in 1.4. Set the value of `n_init` explicitly to suppress the warning\n",
      "  warnings.warn(\n",
      "/Users/faerazo/opt/miniconda3/envs/general/lib/python3.11/site-packages/sklearn/cluster/_kmeans.py:870: FutureWarning: The default value of `n_init` will change from 10 to 'auto' in 1.4. Set the value of `n_init` explicitly to suppress the warning\n",
      "  warnings.warn(\n",
      "/Users/faerazo/opt/miniconda3/envs/general/lib/python3.11/site-packages/sklearn/cluster/_kmeans.py:870: FutureWarning: The default value of `n_init` will change from 10 to 'auto' in 1.4. Set the value of `n_init` explicitly to suppress the warning\n",
      "  warnings.warn(\n",
      "/Users/faerazo/opt/miniconda3/envs/general/lib/python3.11/site-packages/sklearn/cluster/_kmeans.py:870: FutureWarning: The default value of `n_init` will change from 10 to 'auto' in 1.4. Set the value of `n_init` explicitly to suppress the warning\n",
      "  warnings.warn(\n",
      "/Users/faerazo/opt/miniconda3/envs/general/lib/python3.11/site-packages/sklearn/cluster/_kmeans.py:870: FutureWarning: The default value of `n_init` will change from 10 to 'auto' in 1.4. Set the value of `n_init` explicitly to suppress the warning\n",
      "  warnings.warn(\n",
      "/Users/faerazo/opt/miniconda3/envs/general/lib/python3.11/site-packages/sklearn/cluster/_kmeans.py:870: FutureWarning: The default value of `n_init` will change from 10 to 'auto' in 1.4. Set the value of `n_init` explicitly to suppress the warning\n",
      "  warnings.warn(\n",
      "/Users/faerazo/opt/miniconda3/envs/general/lib/python3.11/site-packages/sklearn/cluster/_kmeans.py:870: FutureWarning: The default value of `n_init` will change from 10 to 'auto' in 1.4. Set the value of `n_init` explicitly to suppress the warning\n",
      "  warnings.warn(\n",
      "/Users/faerazo/opt/miniconda3/envs/general/lib/python3.11/site-packages/sklearn/cluster/_kmeans.py:870: FutureWarning: The default value of `n_init` will change from 10 to 'auto' in 1.4. Set the value of `n_init` explicitly to suppress the warning\n",
      "  warnings.warn(\n",
      "/Users/faerazo/opt/miniconda3/envs/general/lib/python3.11/site-packages/sklearn/cluster/_kmeans.py:870: FutureWarning: The default value of `n_init` will change from 10 to 'auto' in 1.4. Set the value of `n_init` explicitly to suppress the warning\n",
      "  warnings.warn(\n",
      "/Users/faerazo/opt/miniconda3/envs/general/lib/python3.11/site-packages/sklearn/cluster/_kmeans.py:870: FutureWarning: The default value of `n_init` will change from 10 to 'auto' in 1.4. Set the value of `n_init` explicitly to suppress the warning\n",
      "  warnings.warn(\n"
     ]
    },
    {
     "data": {
      "image/png": "[encoded data removed]",
      "text/plain": [
       "<Figure size 800x400 with 1 Axes>"
      ]
     },
     "metadata": {},
     "output_type": "display_data"
    }
   ],
   "source": [
    "# Apply the silhouette score method\n",
    "silhouette_scores = []\n",
    "cluster_range = range(2, 16)\n",
    "\n",
    "# Calculate the silhouette score for each number of clusters\n",
    "for n_clusters in cluster_range:\n",
    "    classifier = KMeansClassifier(n_clusters=n_clusters)\n",
    "    classifier.fit(X_train_combined, y_train_combined)\n",
    "\n",
    "    # Calculate the silhouette score\n",
    "    silhouette_avg = silhouette_score(X_train_combined, classifier.kmeans.labels_)\n",
    "    silhouette_scores.append(silhouette_avg)\n",
    "\n",
    "# Plot the silhouette scores\n",
    "plt.figure(figsize=(8, 4))\n",
    "plt.plot(cluster_range, silhouette_scores, marker='o')\n",
    "plt.title('Silhouette Scores For Different Numbers of Clusters')\n",
    "plt.xlabel('Number of Clusters')\n",
    "plt.ylabel('Silhouette Score')\n",
    "plt.xticks(cluster_range)\n",
    "plt.grid(True)\n",
    "plt.show()"
   ]
  },
  {
   "cell_type": "markdown",
   "id": "abc48290c4db11b3",
   "metadata": {
    "collapsed": false
   },
   "source": [
    "## Problem 3: Discussion\n",
    "***"
   ]
  },
  {
   "cell_type": "markdown",
   "id": "7ada6d5b",
   "metadata": {},
   "source": [
    "### In most cases, the accuracy of a system when deployed is lower than the accuracy measured during development (training).\n",
    "In fact, most of the time the accuracy of a deployed system is lower than the accuracy of the system when is developed. There are some reasons that explain this phenomenon:\n",
    "- **Variability**: During the development of a system, the model is trained and evaluated on a specific and already processed dataset. However, in real-world scenarios, the data often contains more variability becuase of the presence of noise, outliers, missing values, etc. This variability can lead to a decrease in the accuracy of the model.\n",
    "- **Distributional Shift**: The distribution of the data used to train the model can be different from the distribution of the data encountered in deployment. For example, if a model is trained on historical data, but the deployment is in a different time period, this can lead to a distributional shift, and this shift can affect the accuracy of the model.\n",
    "- **Dataset Shift**: There may be a significant contrast between the data used in developing the model and the data encountered in deployment. This could be generated by differences in the context, changes over time, different user behaviour, the training data was not representative enough of the real-world data, or other external factors. Models that were accurate during training may face challenges when faced with dataset shift in the real world.\n",
    "- **Overfitting**: The model might be able to perform exceptionally well on the training data, because it captured all the noise in the training process rather than the underlying patterns of the data. The overfitting results in high accuracy during development, but it fails to generalize well to new data in deployment.\n",
    "- **Model and Concept Drift**: As times goes, the underlying patterns in the data may change (concept drift), or the model may become less effective due to changes in the external environment (model drift), making regular updates and retraining necessary.\n",
    "- **Model Complexity**: The model might be too complex can perform well on the training data, but it fails to generalize well to new data in deployment. Models that are simpler might perform better because they are less likely to overfit the training data.\n",
    "\n",
    "### Was this the case for your system? (trainig accuracy greater than testing accuracy)\n",
    "No, in our model the testing accuracy was higher than the training accuracy. The training accuracy was 0.72, validation accuracy was 0.73, test accuracy Guangzhou 0.94 and Shanghai 0.90. This is a rare case, but it can happen. \n",
    "\n",
    "### What are possible reasons for this?\n",
    "- **Imbalanced Data**: The training data has an imbalance ratio of 2.54 between the two classes (0:2300, 1:904). This imbalance may cause that the model is biased towards the majority class (0), because the clusters are likely to contain more instances of the majority class, leading to the majority label for each centroid being 0. That's why on the validation dataset accuracy we were able to see this bias. However, the test datasets for Guangzhou and Shanghai exhibited a more extreme imbalance, with ratio of 14.72 (0: 1266, 1: 86) and 9.16 (0: 1218, 1: 133). This suggests that the model's superior performance on the test datasets is due the imbalance class distributions rather than an actual understanding of the underlying patterns in the data.\n",
    "- **Misleading Metric for Evaluation**: Accuracy is not the best metric to evaluate the performance of this model. It can provide a general view of the model capabilities, but it fails when the data is imbalanced. Considering the evident imbalance ratios in our test datasets, this high accuracy achieved is the result of the model just predicting the predominant class. Other metrics, should be used to evaluate the performance of the model, such as precision, recall, F1-score, AUC-ROC, etc.\n",
    "- **\n",
    "\n",
    "### Discuss which assumptions are made during development that may not hold, and what could be done to improve the system. Do these assumptions hold for the problem above?\n"
   ]
  },
  {
   "cell_type": "markdown",
   "id": "3c902e53e01be6b5",
   "metadata": {
    "collapsed": false
   },
   "source": [
    "## Self Check\n",
    "***\n",
    "- Have you answered all questions to the best of your ability?\n",
    "Yes, we have.\n",
    "- Is all the required information on the front page, is the file name correct etc.?\n",
    "Indeed, all the required information on the front page has been included.\n",
    "- Anything else you can easily check? (details, terminology, arguments, clearly stated answers etc.?)\n",
    "We have checked, and everything looks good."
   ]
  }
 ],
 "metadata": {
  "kernelspec": {
   "display_name": "Python 3",
   "language": "python",
   "name": "python3"
  },
  "language_info": {
   "codemirror_mode": {
    "name": "ipython",
    "version": 3
   },
   "file_extension": ".py",
   "mimetype": "text/x-python",
   "name": "python",
   "nbconvert_exporter": "python",
   "pygments_lexer": "ipython3",
   "version": "3.11.5"
  }
 },
 "nbformat": 4,
 "nbformat_minor": 5
}
