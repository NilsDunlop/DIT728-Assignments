{
 "cells": [
  {
   "cell_type": "markdown",
   "source": [
    "# Group 5 - Module 2: Recommendation Systems\n",
    "\n",
    "***\n",
    "## Group Members:\n",
    "* ### Nils Dunlop, 20010127-2359, Applied Data Science, e-mail: gusdunlni@student.gu.se (16 hours)\n",
    "* ### Francisco Alejandro Erazo Piza, 19930613-9214, Applied Data Science, e-mail: guserafr@student.gu.se (16 hours)\n",
    "\n",
    "#### **We hereby declare that we have both actively participated in solving every exercise. All solutions are entirely our own work, without having taken part of other solutions.\" (This is independent and additional to any declaration that you may encounter in the electronic submission system.)**"
   ],
   "metadata": {
    "collapsed": false
   },
   "id": "b0e7365d49bc45f1"
  },
  {
   "cell_type": "markdown",
   "source": [
    "# Assignment 3\n",
    "***"
   ],
   "metadata": {
    "collapsed": false
   },
   "id": "a40ce4f1465244c7"
  },
  {
   "cell_type": "markdown",
   "source": [
    "## Problem 1: Reading and Reflection From The Hidden Technical Debt in Machine Learning Systems paper.\n",
    "***"
   ],
   "metadata": {
    "collapsed": false
   },
   "id": "426429e48a4209ce"
  },
  {
   "cell_type": "markdown",
   "source": [
    "## Problem 2: Implementation\n",
    "***"
   ],
   "metadata": {
    "collapsed": false
   },
   "id": "b1b6dbabbbd02376"
  },
  {
   "cell_type": "markdown",
   "source": [
    "## Problem 3: Discussion\n",
    "***"
   ],
   "metadata": {
    "collapsed": false
   },
   "id": "abc48290c4db11b3"
  },
  {
   "cell_type": "markdown",
   "source": [
    "## References:\n",
    "***"
   ],
   "metadata": {
    "collapsed": false
   },
   "id": "dd46d61b0a814945"
  },
  {
   "cell_type": "markdown",
   "source": [
    "## Self Check\n",
    "***\n",
    "- Have you answered all questions to the best of your ability?\n",
    "Yes, we have.\n",
    "- Is all the required information on the front page, is the file name correct etc.?\n",
    "Indeed, all the required information on the front page has been included.\n",
    "- Anything else you can easily check? (details, terminology, arguments, clearly stated answers etc.?)\n",
    "We have checked, and everything looks good."
   ],
   "metadata": {
    "collapsed": false
   },
   "id": "3c902e53e01be6b5"
  }
 ],
 "metadata": {
  "kernelspec": {
   "display_name": "Python 3",
   "language": "python",
   "name": "python3"
  },
  "language_info": {
   "codemirror_mode": {
    "name": "ipython",
    "version": 2
   },
   "file_extension": ".py",
   "mimetype": "text/x-python",
   "name": "python",
   "nbconvert_exporter": "python",
   "pygments_lexer": "ipython2",
   "version": "2.7.6"
  }
 },
 "nbformat": 4,
 "nbformat_minor": 5
}
