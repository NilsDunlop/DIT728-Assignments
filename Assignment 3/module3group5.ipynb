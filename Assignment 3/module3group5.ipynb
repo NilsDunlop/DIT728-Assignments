{
 "cells": [
  {
   "cell_type": "markdown",
   "source": [
    "# Group 5 - Module 2: Recommendation Systems\n",
    "\n",
    "***\n",
    "## Group Members:\n",
    "* ### Nils Dunlop, 20010127-2359, Applied Data Science, e-mail: gusdunlni@student.gu.se (16 hours)\n",
    "* ### Francisco Alejandro Erazo Piza, 19930613-9214, Applied Data Science, e-mail: guserafr@student.gu.se (16 hours)\n",
    "\n",
    "#### **We hereby declare that we have both actively participated in solving every exercise. All solutions are entirely our own work, without having taken part of other solutions.\" (This is independent and additional to any declaration that you may encounter in the electronic submission system.)**"
   ],
   "metadata": {
    "collapsed": false
   },
   "id": "b0e7365d49bc45f1"
  },
  {
   "cell_type": "markdown",
   "source": [
    "# Assignment 3\n",
    "***"
   ],
   "metadata": {
    "collapsed": false
   },
   "id": "a40ce4f1465244c7"
  },
  {
   "cell_type": "markdown",
   "source": [
    "## Problem 1: Reading and Reflection From The Hidden Technical Debt in Machine Learning Systems paper.\n",
    "***"
   ],
   "metadata": {
    "collapsed": false
   },
   "id": "426429e48a4209ce"
  },
  {
   "cell_type": "markdown",
   "source": [
    "## Problem 2: Implementation\n",
    "***"
   ],
   "metadata": {
    "collapsed": false
   },
   "id": "b1b6dbabbbd02376"
  },
  {
   "cell_type": "code",
   "outputs": [
    {
     "data": {
      "text/plain": "      season  DEWP  HUMI    PRES  TEMP     Iws  precipitation  cbwd_NE  \\\n0          4  -8.0  79.0  1026.0  -5.0   23.69            0.0        0   \n1          4 -11.0  85.0  1021.0  -9.0  105.93            1.1        0   \n2          4 -21.0  43.0  1030.0 -11.0  117.55            0.0        0   \n3          4 -25.0  33.0  1034.0 -12.0   39.35            0.0        1   \n4          4 -24.0  30.0  1034.0 -10.0   59.00            0.0        1   \n...      ...   ...   ...     ...   ...     ...            ...      ...   \n2066       4 -15.0  45.0  1040.0  -5.0    1.79            0.0        0   \n2067       4 -13.0  34.0  1036.0   1.0   40.24            0.0        0   \n2068       4  -8.0  50.0  1028.0   1.0    1.79            0.0        0   \n2069       4 -11.0  28.0  1031.0   6.0   23.24            0.0        0   \n2070       4 -10.0  37.0  1033.0   3.0    0.89            0.0        0   \n\n      cbwd_NW  cbwd_SE  PM_HIGH  \n0           0        1      1.0  \n1           0        1      0.0  \n2           1        0      0.0  \n3           0        0      0.0  \n4           0        0      0.0  \n...       ...      ...      ...  \n2066        1        0      0.0  \n2067        1        0      0.0  \n2068        1        0      1.0  \n2069        1        0      0.0  \n2070        0        0      0.0  \n\n[2071 rows x 11 columns]",
      "text/html": "<div>\n<style scoped>\n    .dataframe tbody tr th:only-of-type {\n        vertical-align: middle;\n    }\n\n    .dataframe tbody tr th {\n        vertical-align: top;\n    }\n\n    .dataframe thead th {\n        text-align: right;\n    }\n</style>\n<table border=\"1\" class=\"dataframe\">\n  <thead>\n    <tr style=\"text-align: right;\">\n      <th></th>\n      <th>season</th>\n      <th>DEWP</th>\n      <th>HUMI</th>\n      <th>PRES</th>\n      <th>TEMP</th>\n      <th>Iws</th>\n      <th>precipitation</th>\n      <th>cbwd_NE</th>\n      <th>cbwd_NW</th>\n      <th>cbwd_SE</th>\n      <th>PM_HIGH</th>\n    </tr>\n  </thead>\n  <tbody>\n    <tr>\n      <th>0</th>\n      <td>4</td>\n      <td>-8.0</td>\n      <td>79.0</td>\n      <td>1026.0</td>\n      <td>-5.0</td>\n      <td>23.69</td>\n      <td>0.0</td>\n      <td>0</td>\n      <td>0</td>\n      <td>1</td>\n      <td>1.0</td>\n    </tr>\n    <tr>\n      <th>1</th>\n      <td>4</td>\n      <td>-11.0</td>\n      <td>85.0</td>\n      <td>1021.0</td>\n      <td>-9.0</td>\n      <td>105.93</td>\n      <td>1.1</td>\n      <td>0</td>\n      <td>0</td>\n      <td>1</td>\n      <td>0.0</td>\n    </tr>\n    <tr>\n      <th>2</th>\n      <td>4</td>\n      <td>-21.0</td>\n      <td>43.0</td>\n      <td>1030.0</td>\n      <td>-11.0</td>\n      <td>117.55</td>\n      <td>0.0</td>\n      <td>0</td>\n      <td>1</td>\n      <td>0</td>\n      <td>0.0</td>\n    </tr>\n    <tr>\n      <th>3</th>\n      <td>4</td>\n      <td>-25.0</td>\n      <td>33.0</td>\n      <td>1034.0</td>\n      <td>-12.0</td>\n      <td>39.35</td>\n      <td>0.0</td>\n      <td>1</td>\n      <td>0</td>\n      <td>0</td>\n      <td>0.0</td>\n    </tr>\n    <tr>\n      <th>4</th>\n      <td>4</td>\n      <td>-24.0</td>\n      <td>30.0</td>\n      <td>1034.0</td>\n      <td>-10.0</td>\n      <td>59.00</td>\n      <td>0.0</td>\n      <td>1</td>\n      <td>0</td>\n      <td>0</td>\n      <td>0.0</td>\n    </tr>\n    <tr>\n      <th>...</th>\n      <td>...</td>\n      <td>...</td>\n      <td>...</td>\n      <td>...</td>\n      <td>...</td>\n      <td>...</td>\n      <td>...</td>\n      <td>...</td>\n      <td>...</td>\n      <td>...</td>\n      <td>...</td>\n    </tr>\n    <tr>\n      <th>2066</th>\n      <td>4</td>\n      <td>-15.0</td>\n      <td>45.0</td>\n      <td>1040.0</td>\n      <td>-5.0</td>\n      <td>1.79</td>\n      <td>0.0</td>\n      <td>0</td>\n      <td>1</td>\n      <td>0</td>\n      <td>0.0</td>\n    </tr>\n    <tr>\n      <th>2067</th>\n      <td>4</td>\n      <td>-13.0</td>\n      <td>34.0</td>\n      <td>1036.0</td>\n      <td>1.0</td>\n      <td>40.24</td>\n      <td>0.0</td>\n      <td>0</td>\n      <td>1</td>\n      <td>0</td>\n      <td>0.0</td>\n    </tr>\n    <tr>\n      <th>2068</th>\n      <td>4</td>\n      <td>-8.0</td>\n      <td>50.0</td>\n      <td>1028.0</td>\n      <td>1.0</td>\n      <td>1.79</td>\n      <td>0.0</td>\n      <td>0</td>\n      <td>1</td>\n      <td>0</td>\n      <td>1.0</td>\n    </tr>\n    <tr>\n      <th>2069</th>\n      <td>4</td>\n      <td>-11.0</td>\n      <td>28.0</td>\n      <td>1031.0</td>\n      <td>6.0</td>\n      <td>23.24</td>\n      <td>0.0</td>\n      <td>0</td>\n      <td>1</td>\n      <td>0</td>\n      <td>0.0</td>\n    </tr>\n    <tr>\n      <th>2070</th>\n      <td>4</td>\n      <td>-10.0</td>\n      <td>37.0</td>\n      <td>1033.0</td>\n      <td>3.0</td>\n      <td>0.89</td>\n      <td>0.0</td>\n      <td>0</td>\n      <td>0</td>\n      <td>0</td>\n      <td>0.0</td>\n    </tr>\n  </tbody>\n</table>\n<p>2071 rows × 11 columns</p>\n</div>"
     },
     "execution_count": 69,
     "metadata": {},
     "output_type": "execute_result"
    }
   ],
   "source": [
    "import pandas as pd\n",
    "from sklearn.cluster import KMeans\n",
    "from scipy.stats import mode\n",
    "import numpy as np\n",
    "from sklearn.model_selection import train_test_split\n",
    "import matplotlib.pyplot as plt\n",
    "from sklearn.metrics import silhouette_score\n",
    "\n",
    "df_beijing = pd.read_csv('Beijing_labeled.csv')\n",
    "df_chengdu = pd.read_csv('Chengdu_labeled.csv')\n",
    "df_guangzhou = pd.read_csv('Guangzhou_labeled.csv')\n",
    "df_shanghai = pd.read_csv('Shanghai_labeled.csv')\n",
    "df_shenyang = pd.read_csv('Shenyang_labeled.csv')\n",
    "\n",
    "beijing"
   ],
   "metadata": {
    "collapsed": false,
    "ExecuteTime": {
     "end_time": "2024-01-31T14:09:42.864557300Z",
     "start_time": "2024-01-31T14:09:42.814753700Z"
    }
   },
   "id": "84fe1d573830a1ff",
   "execution_count": 69
  },
  {
   "cell_type": "code",
   "outputs": [],
   "source": [
    "# Combine the datasets for Beijing, Chengdu, and Shenyang\n",
    "df_combined = pd.concat([df_beijing, df_chengdu, df_shenyang], ignore_index=True)\n",
    "\n",
    "# Reset the index to avoid any potential issues with non-sequential indices\n",
    "df_combined.reset_index(drop=True, inplace=True)\n",
    "\n",
    "# Split the combined dataset into features and target\n",
    "X_combined = df_combined.drop(columns=['PM_HIGH'])\n",
    "y_combined = df_combined['PM_HIGH']\n",
    "\n",
    "# Split the combined dataset into training and validation sets\n",
    "X_train_combined, X_val_combined, y_train_combined, y_val_combined = train_test_split(\n",
    "    X_combined, y_combined, test_size=0.2, random_state=42\n",
    ")\n",
    "\n",
    "# Prepare the testing sets for Guangzhou and Shanghai\n",
    "X_test_guangzhou = df_guangzhou.drop(columns=['PM_HIGH']).reset_index(drop=True)\n",
    "y_test_guangzhou = df_guangzhou['PM_HIGH'].reset_index(drop=True)\n",
    "\n",
    "X_test_shanghai = df_shanghai.drop(columns=['PM_HIGH']).reset_index(drop=True)\n",
    "y_test_shanghai = df_shanghai['PM_HIGH'].reset_index(drop=True)"
   ],
   "metadata": {
    "collapsed": false,
    "ExecuteTime": {
     "end_time": "2024-01-31T14:09:42.923608300Z",
     "start_time": "2024-01-31T14:09:42.871113Z"
    }
   },
   "id": "96b6eadf7a3a46f3",
   "execution_count": 70
  },
  {
   "cell_type": "code",
   "outputs": [],
   "source": [
    "class KMeansClassifier:\n",
    "    def __init__(self, n_clusters):\n",
    "        self.n_clusters = n_clusters\n",
    "        self.kmeans = KMeans(n_clusters=self.n_clusters)\n",
    "        self.labels_map = {}\n",
    "        self.inertia_ = None\n",
    "\n",
    "    def fit(self, X, y):\n",
    "        # Fit the k-means algorithm to the data\n",
    "        self.kmeans.fit(X)\n",
    "        self.inertia_ = self.kmeans.inertia_\n",
    "\n",
    "        # Predict the clusters\n",
    "        clusters = self.kmeans.predict(X)\n",
    "\n",
    "        # Create a mapping from each cluster to a label\n",
    "        for cluster in range(self.n_clusters):\n",
    "            cluster_indices = np.where(clusters == cluster)[0]\n",
    "            cluster_labels = y.iloc[cluster_indices]\n",
    "            majority_label = mode(cluster_labels, keepdims=False).mode\n",
    "\n",
    "            # Ensure that majority_label is treated as an array\n",
    "            if np.isscalar(majority_label):\n",
    "                majority_label = np.array([majority_label])\n",
    "\n",
    "            # Map the cluster to the majority label\n",
    "            self.labels_map[cluster] = majority_label[0]\n",
    "\n",
    "    def predict(self, X):\n",
    "        # Find the nearest centroid for each point in X\n",
    "        clusters = self.kmeans.predict(X)\n",
    "\n",
    "        # Predict the label based on the nearest centroid\n",
    "        predicted_labels = np.vectorize(self.labels_map.get)(clusters)\n",
    "        return predicted_labels\n",
    "\n",
    "    def score(self, X, y):\n",
    "        # Predict the labels for X\n",
    "        predicted_labels = self.predict(X)\n",
    "\n",
    "        # Calculate the accuracy as the fraction of correctly predicted labels\n",
    "        accuracy = np.mean(predicted_labels == y)\n",
    "        return accuracy\n"
   ],
   "metadata": {
    "collapsed": false,
    "ExecuteTime": {
     "end_time": "2024-01-31T14:09:42.960728700Z",
     "start_time": "2024-01-31T14:09:42.895191400Z"
    }
   },
   "id": "caa5e6dfd31ee2ac",
   "execution_count": 71
  },
  {
   "cell_type": "code",
   "outputs": [],
   "source": [],
   "metadata": {
    "collapsed": false
   },
   "id": "204cca4f23da04e2"
  },
  {
   "cell_type": "code",
   "outputs": [
    {
     "name": "stdout",
     "output_type": "stream",
     "text": [
      "Validation Accuracy (Beijing, Chengdu, Shenyang): 0.73\n",
      "Test Accuracy for Guangzhou: 0.94\n",
      "Test Accuracy for Shanghai: 0.90\n"
     ]
    }
   ],
   "source": [
    "# Initialize the classifier\n",
    "# Optimal number of clusters was determined below to be 2\n",
    "classifier = KMeansClassifier(n_clusters=2)\n",
    "\n",
    "# Train the classifier on the combined training set\n",
    "classifier.fit(X_train_combined, y_train_combined)\n",
    "\n",
    "# Validate the classifier on the combined validation set\n",
    "validation_accuracy = classifier.score(X_val_combined, y_val_combined)\n",
    "\n",
    "# Evaluate on Guangzhou data\n",
    "test_accuracy_guangzhou = classifier.score(X_test_guangzhou, y_test_guangzhou)\n",
    "\n",
    "# Evaluate on Shanghai data\n",
    "test_accuracy_shanghai = classifier.score(X_test_shanghai, y_test_shanghai)\n",
    "\n",
    "print(f\"Validation Accuracy (Beijing, Chengdu, Shenyang): {validation_accuracy:.2f}\")\n",
    "print(f\"Test Accuracy for Guangzhou: {test_accuracy_guangzhou:.2f}\")\n",
    "print(f\"Test Accuracy for Shanghai: {test_accuracy_shanghai:.2f}\")"
   ],
   "metadata": {
    "collapsed": false,
    "ExecuteTime": {
     "end_time": "2024-01-31T14:09:43.223300Z",
     "start_time": "2024-01-31T14:09:42.906712600Z"
    }
   },
   "id": "7704bf4c6148e7a8",
   "execution_count": 72
  },
  {
   "cell_type": "code",
   "outputs": [
    {
     "data": {
      "text/plain": "<Figure size 800x400 with 1 Axes>",
      "image/png": "[encoded data removed]"
     },
     "metadata": {},
     "output_type": "display_data"
    }
   ],
   "source": [
    "# Apply the silhouette score method\n",
    "silhouette_scores = []\n",
    "cluster_range = range(2, 16)\n",
    "\n",
    "# Calculate the silhouette score for each number of clusters\n",
    "for n_clusters in cluster_range:\n",
    "    classifier = KMeansClassifier(n_clusters=n_clusters)\n",
    "    classifier.fit(X_train_combined, y_train_combined)\n",
    "\n",
    "    # Calculate the silhouette score\n",
    "    silhouette_avg = silhouette_score(X_train_combined, classifier.kmeans.labels_)\n",
    "    silhouette_scores.append(silhouette_avg)\n",
    "\n",
    "# Plot the silhouette scores\n",
    "plt.figure(figsize=(8, 4))\n",
    "plt.plot(cluster_range, silhouette_scores, marker='o')\n",
    "plt.title('Silhouette Scores For Different Numbers of Clusters')\n",
    "plt.xlabel('Number of Clusters')\n",
    "plt.ylabel('Silhouette Score')\n",
    "plt.xticks(cluster_range)\n",
    "plt.grid(True)\n",
    "plt.show()"
   ],
   "metadata": {
    "collapsed": false,
    "ExecuteTime": {
     "end_time": "2024-01-31T14:09:49.356009100Z",
     "start_time": "2024-01-31T14:09:43.226613500Z"
    }
   },
   "id": "5168dc79d802c5e1",
   "execution_count": 73
  },
  {
   "cell_type": "markdown",
   "source": [
    "## Problem 3: Discussion\n",
    "***"
   ],
   "metadata": {
    "collapsed": false
   },
   "id": "abc48290c4db11b3"
  },
  {
   "cell_type": "markdown",
   "source": [
    "## References:\n",
    "***"
   ],
   "metadata": {
    "collapsed": false
   },
   "id": "dd46d61b0a814945"
  },
  {
   "cell_type": "markdown",
   "source": [
    "## Self Check\n",
    "***\n",
    "- Have you answered all questions to the best of your ability?\n",
    "Yes, we have.\n",
    "- Is all the required information on the front page, is the file name correct etc.?\n",
    "Indeed, all the required information on the front page has been included.\n",
    "- Anything else you can easily check? (details, terminology, arguments, clearly stated answers etc.?)\n",
    "We have checked, and everything looks good."
   ],
   "metadata": {
    "collapsed": false
   },
   "id": "3c902e53e01be6b5"
  }
 ],
 "metadata": {
  "kernelspec": {
   "display_name": "Python 3",
   "language": "python",
   "name": "python3"
  },
  "language_info": {
   "codemirror_mode": {
    "name": "ipython",
    "version": 2
   },
   "file_extension": ".py",
   "mimetype": "text/x-python",
   "name": "python",
   "nbconvert_exporter": "python",
   "pygments_lexer": "ipython2",
   "version": "2.7.6"
  }
 },
 "nbformat": 4,
 "nbformat_minor": 5
}
