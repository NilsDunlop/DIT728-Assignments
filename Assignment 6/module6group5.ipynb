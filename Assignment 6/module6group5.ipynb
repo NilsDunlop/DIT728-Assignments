{
 "cells": [
  {
   "cell_type": "markdown",
   "id": "b0e7365d49bc45f1",
   "metadata": {
    "id": "b0e7365d49bc45f1"
   },
   "source": [
    "# Group 5 - Module 6: Game Playing Systems\n",
    "\n",
    "***\n",
    "### Group Members:\n",
    "* **Nils Dunlop, 20010127-2359, Applied Data Science, e-mail: gusdunlni@student.gu.se (16 hours)**\n",
    "* **Francisco Erazo, 19930613-9214, Applied Data Science, e-mail: guserafr@student.gu.se (16 hours)**\n",
    "\n",
    "#### **We hereby declare that we have both actively participated in solving every exercise. All solutions are entirely our own work, without having taken part of other solutions.\" (This is independent and additional to any declaration that you may encounter in the electronic submission system.)**"
   ]
  },
  {
   "cell_type": "markdown",
   "id": "a40ce4f1465244c7",
   "metadata": {
    "id": "a40ce4f1465244c7"
   },
   "source": [
    "# Assignment 6\n",
    "***"
   ]
  },
  {
   "cell_type": "markdown",
   "id": "426429e48a4209ce",
   "metadata": {
    "id": "426429e48a4209ce"
   },
   "source": [
    "## Problem 1: Reading and Reflection\n",
    "***\n",
    "AlphaGo is a computer program designed to play the board game Go. It was created by DeepMind Technologies, now a part of Google. Go is known for its complex strategies and the vast number of possible moves, presenting a significant challenge for traditional AI methods. AlphaGo uses advanced deep neural networks and Monte Carlo Tree Search (MCTS), enabling it to learn from a large amount of data, including recorded games between human experts and games it played against itself. Through this learning process, AlphaGo developed judgment and intuition similar to human players, allowing it to accurately predict moves and game outcomes.\n",
    "\n",
    "The architecture of AlphaGo includes policy networks that suggest probable next moves, and value networks that predict the game's winner from any position, marking a step forward in using AI to tackle complex problems. Its training involved supervised learning from games played by human experts and reinforcement learning from self-play. This approach enabled the system to continuously refine its strategies and adjust to new challenges. The integration of MCTS with neural networks enabled efficient exploration and evaluation of possible moves, balancing between relying on known effective strategies and exploring new ones.\n",
    "\n",
    "AlphaGo's success was demonstrated by its 99.8% win rate against other Go programs and its historic victory over European Go champion Fan Hui 5-0, marking the first time a computer program defeated a professional human player in Go. Given Go's complexity compared to chess, this achievement was seen as a significant milestone in AI.\n",
    "\n",
    "The strategies employed by AlphaGo, and its implications, extend beyond just games. They showcase the potential of deep learning and reinforcement learning to address complex issues in various fields.\n",
    "\n"
   ]
  },
  {
   "cell_type": "markdown",
   "id": "b1b6dbabbbd02376",
   "metadata": {
    "id": "b1b6dbabbbd02376"
   },
   "source": [
    "## Problem 2: Implementation\n",
    "***"
   ]
  },
  {
   "cell_type": "markdown",
   "source": [
    "#### Tic-Tac-Toe Game Board and Rules"
   ],
   "metadata": {
    "collapsed": false
   },
   "id": "f5fa74a9d3d66636"
  },
  {
   "cell_type": "code",
   "outputs": [],
   "source": [
    "import math\n",
    "import random\n",
    "\n",
    "class TicTacToe:\n",
    "    def __init__(self):\n",
    "        # Initialize a 3x3 Tic Tac Toe board\n",
    "        self.board = [[' ' for _ in range(3)] for _ in range(3)]\n",
    "        self.current_turn = 'X'  # Start with player 'X'\n",
    "        self.game_over = False\n",
    "        self.winner = None\n",
    "\n",
    "    def move(self, row, col):\n",
    "        # Place a move on the board if the cell is empty\n",
    "        if self.board[row][col] == ' ':\n",
    "            self.board[row][col] = self.current_turn\n",
    "            self.check_winner()  # Check for a winner after the move\n",
    "            self.current_turn = 'O' if self.current_turn == 'X' else 'X'  # Switch turns\n",
    "            return True\n",
    "        return False\n",
    "\n",
    "    def check_winner(self):\n",
    "        # Check all win conditions (rows, columns, diagonals)\n",
    "        for i in range(3):\n",
    "            # Check rows and columns\n",
    "            if self.board[i][0] == self.board[i][1] == self.board[i][2] != ' ' or \\\n",
    "                    self.board[0][i] == self.board[1][i] == self.board[2][i] != ' ':\n",
    "                self.game_over = True\n",
    "                self.winner = self.board[i][0]\n",
    "                return\n",
    "        # Check diagonals\n",
    "        if self.board[0][0] == self.board[1][1] == self.board[2][2] != ' ' or \\\n",
    "                self.board[0][2] == self.board[1][1] == self.board[2][0] != ' ':\n",
    "            self.game_over = True\n",
    "            self.winner = self.board[1][1]\n",
    "            return\n",
    "        # Check for a draw (no empty spaces left)\n",
    "        if all(self.board[row][col] != ' ' for row in range(3) for col in range(3)):\n",
    "            self.game_over = True\n",
    "\n",
    "    def get_legal_moves(self):\n",
    "        # Return a list of all empty spaces on the board\n",
    "        return [(row, col) for row in range(3) for col in range(3) if self.board[row][col] == ' ']\n",
    "\n",
    "    def clone(self):\n",
    "        # Create a copy of the game state\n",
    "        clone = TicTacToe()\n",
    "        clone.board = [row[:] for row in self.board]\n",
    "        clone.current_turn = self.current_turn\n",
    "        clone.game_over = self.game_over\n",
    "        clone.winner = self.winner\n",
    "        return clone\n",
    "\n",
    "    def print_board(self, generation=None):\n",
    "        # Print the current state of the board\n",
    "        if generation is not None:\n",
    "            print(f\"Board State at Generation {generation}:\")\n",
    "        for row in self.board:\n",
    "            print(' ' + ' | '.join(row))\n",
    "            print('---+---+---')\n",
    "        print()\n",
    "\n",
    "    def count_two_in_a_rows(self, player):\n",
    "        # Count the number of two-in-a-rows for a given player\n",
    "        opponent = 'O' if player == 'X' else 'X'\n",
    "        two_in_a_rows = 0\n",
    "        # Check rows, columns, and diagonals for two-in-a-rows\n",
    "        for i in range(3):\n",
    "            if self.board[i].count(player) == 2 and self.board[i].count(opponent) == 0:\n",
    "                two_in_a_rows += 1\n",
    "            column = [self.board[j][i] for j in range(3)]\n",
    "            if column.count(player) == 2 and column.count(opponent) == 0:\n",
    "                two_in_a_rows += 1\n",
    "        diagonals = [[self.board[i][i] for i in range(3)], [self.board[i][2-i] for i in range(3)]]\n",
    "        for diag in diagonals:\n",
    "            if diag.count(player) == 2 and diag.count(opponent) == 0:\n",
    "                two_in_a_rows += 1\n",
    "        return two_in_a_rows\n",
    "\n",
    "    def evaluate_state(self, player):\n",
    "        # Evaluate the board state for a given player\n",
    "        if self.winner == player:\n",
    "            return 100\n",
    "        elif self.winner is not None:\n",
    "            return -100\n",
    "        else:\n",
    "            score = self.count_two_in_a_rows(player) * 10\n",
    "            # Adjust score based on opponent's two-in-a-rows\n",
    "            opponent = 'O' if player == 'X' else 'X'\n",
    "            opponent_two_in_a_rows = self.count_two_in_a_rows(opponent)\n",
    "            if opponent_two_in_a_rows > 0:\n",
    "                score -= opponent_two_in_a_rows * 50\n",
    "            return score\n",
    "\n",
    "    def check_immediate_threat(self, player):\n",
    "        # Check if there's an immediate win available for the opponent\n",
    "        opponent = 'O' if player == 'X' else 'X'\n",
    "        for row in range(3):\n",
    "            for col in range(3):\n",
    "                if self.board[row][col] == ' ':\n",
    "                    temp_board = self.clone()\n",
    "                    temp_board.board[row][col] = opponent\n",
    "                    temp_board.check_winner()\n",
    "                    if temp_board.winner == opponent:\n",
    "                        return True\n",
    "        return False"
   ],
   "metadata": {
    "collapsed": false,
    "ExecuteTime": {
     "end_time": "2024-02-26T18:06:16.140621700Z",
     "start_time": "2024-02-26T18:06:16.099741Z"
    }
   },
   "id": "b0ef4c4cd3915d54",
   "execution_count": 179
  },
  {
   "cell_type": "markdown",
   "source": [
    "#### Monte Carlo Search Node"
   ],
   "metadata": {
    "collapsed": false
   },
   "id": "676221a6a09b5c12"
  },
  {
   "cell_type": "code",
   "outputs": [],
   "source": [
    "class MCTSNode:\n",
    "    def __init__(self, game_state, parent=None, move=None):\n",
    "        self.game_state = game_state\n",
    "        self.parent = parent\n",
    "        self.move = move\n",
    "        self.children = []\n",
    "        self.wins = 0\n",
    "        self.visits = 0\n",
    "        self.untried_moves = game_state.get_legal_moves()\n",
    "\n",
    "    def UCB1(self, exploration_parameter):\n",
    "        # Calculate the Upper Confidence Bound for tree node selection\n",
    "        if self.visits == 0:\n",
    "            return float('inf')\n",
    "        # Balances exploration and exploitation.\n",
    "        return self.wins / self.visits + exploration_parameter * math.sqrt(2 * math.log(self.parent.visits) / self.visits)\n",
    "\n",
    "    def select_child(self, exploration_parameter=2):\n",
    "        # Select a child node using the UCB1 formula\n",
    "        return max(self.children, key=lambda child: child.UCB1(exploration_parameter))\n",
    "\n",
    "    def add_child(self, move, game_state):\n",
    "        # Create a new child node for a given move and game state.\n",
    "        child = MCTSNode(game_state=game_state.clone(), parent=self, move=move)\n",
    "        self.untried_moves.remove(move)\n",
    "        self.children.append(child)\n",
    "        return child\n",
    "\n",
    "    def update(self, result):\n",
    "        # Update this node's win/visit statistics based on simulation result.\n",
    "        self.visits += 1\n",
    "        if result == self.game_state.current_turn:\n",
    "            self.wins += 1  # Win for the current player.\n",
    "        elif result == 'Draw':\n",
    "            self.wins += 0.5  # Half-win for a draw."
   ],
   "metadata": {
    "collapsed": false,
    "ExecuteTime": {
     "end_time": "2024-02-26T18:06:16.159157100Z",
     "start_time": "2024-02-26T18:06:16.139659400Z"
    }
   },
   "id": "4dce34cf5a0eaa1f",
   "execution_count": 180
  },
  {
   "cell_type": "code",
   "outputs": [],
   "source": [
    "def evaluate_board_for_rollout(board, player):\n",
    "    # Initial variables\n",
    "    opponent = 'O' if player == 'X' else 'X'\n",
    "    center = (1, 1)\n",
    "    corners = [(0, 0), (0, 2), (2, 0), (2, 2)]\n",
    "    edges = [(0, 1), (1, 0), (1, 2), (2, 1)]\n",
    "\n",
    "    # Check for immediate wins or blocks\n",
    "    for move in board.get_legal_moves():\n",
    "        temp_board = board.clone()\n",
    "        temp_board.move(*move)\n",
    "        if temp_board.winner:\n",
    "            return move, True  # Immediate win or block\n",
    "\n",
    "    # Take the center if available\n",
    "    if board.board[center[0]][center[1]] == ' ':\n",
    "        return center, True\n",
    "\n",
    "    # Take a corner, prioritizing those adjacent to opponent's marks to disrupt their strategy\n",
    "    available_corners = [corner for corner in corners if board.board[corner[0]][corner[1]] == ' ']\n",
    "    if available_corners:\n",
    "        return random.choice(available_corners), True\n",
    "\n",
    "    # Take an edge as a last resort\n",
    "    available_edges = [edge for edge in edges if board.board[edge[0]][edge[1]] == ' ']\n",
    "    if available_edges:\n",
    "        return random.choice(available_edges), True\n",
    "\n",
    "    return None, False\n",
    "\n",
    "def rollout_policy(board, player):\n",
    "    # Use a rollout policy to select moves\n",
    "    move, found = evaluate_board_for_rollout(board, player)\n",
    "    if found:\n",
    "        return move"
   ],
   "metadata": {
    "collapsed": false,
    "ExecuteTime": {
     "end_time": "2024-02-26T18:06:16.209473900Z",
     "start_time": "2024-02-26T18:06:16.169696600Z"
    }
   },
   "id": "30d087e8a3b038ed",
   "execution_count": 181
  },
  {
   "cell_type": "markdown",
   "source": [
    "#### Monte Carlo Tree Search Algorithm"
   ],
   "metadata": {
    "collapsed": false
   },
   "id": "c3ce5e90ff02c5a1"
  },
  {
   "cell_type": "code",
   "outputs": [],
   "source": [
    "def MCTS(root_state, iterations, exploration_parameter=2):\n",
    "    root_node = MCTSNode(game_state=root_state)\n",
    "\n",
    "    for _ in range(iterations):\n",
    "        node = root_node\n",
    "        state = root_state.clone()\n",
    "\n",
    "        # Selection with tweaked exploration parameter\n",
    "        while node.untried_moves == [] and node.children != []:\n",
    "            node = node.select_child(exploration_parameter)\n",
    "\n",
    "        # Expansion\n",
    "        if node.untried_moves:\n",
    "            move = random.choice(node.untried_moves)\n",
    "            state.move(*move)\n",
    "            node = node.add_child(move, state)\n",
    "\n",
    "        # Simulation with improved rollout policy\n",
    "        while state.get_legal_moves():\n",
    "            move = rollout_policy(state, state.current_turn)\n",
    "            state.move(*move)\n",
    "\n",
    "        # Backpropagation with nuanced scoring\n",
    "        while node is not None:\n",
    "            node.update(state.evaluate_state(node.game_state.current_turn))\n",
    "            node = node.parent\n",
    "\n",
    "    return sorted(root_node.children, key=lambda c: c.visits)[-1].move"
   ],
   "metadata": {
    "collapsed": false,
    "ExecuteTime": {
     "end_time": "2024-02-26T18:06:16.209473900Z",
     "start_time": "2024-02-26T18:06:16.189430800Z"
    }
   },
   "id": "1d0b8dc40b8219b9",
   "execution_count": 182
  },
  {
   "cell_type": "code",
   "outputs": [
    {
     "name": "stdout",
     "output_type": "stream",
     "text": [
      "AI makes move at (0, 1):\n",
      "Board State at Generation 1:\n",
      "   | X |  \n",
      "---+---+---\n",
      "   |   |  \n",
      "---+---+---\n",
      "   |   |  \n",
      "---+---+---\n",
      "\n",
      "Opponent makes move at (2, 1):\n",
      "Board State at Generation 2:\n",
      "   | X |  \n",
      "---+---+---\n",
      "   |   |  \n",
      "---+---+---\n",
      "   | O |  \n",
      "---+---+---\n",
      "AI makes move at (0, 2):\n",
      "Board State at Generation 3:\n",
      "   | X | X\n",
      "---+---+---\n",
      "   |   |  \n",
      "---+---+---\n",
      "   | O |  \n",
      "---+---+---\n",
      "\n",
      "Opponent makes move at (1, 0):\n",
      "Board State at Generation 4:\n",
      "   | X | X\n",
      "---+---+---\n",
      " O |   |  \n",
      "---+---+---\n",
      "   | O |  \n",
      "---+---+---\n",
      "\n",
      "AI makes move at (1, 2):\n",
      "Board State at Generation 5:\n",
      "   | X | X\n",
      "---+---+---\n",
      " O |   | X\n",
      "---+---+---\n",
      "   | O |  \n",
      "---+---+---\n",
      "\n",
      "Opponent makes move at (1, 1):\n",
      "Board State at Generation 6:\n",
      "   | X | X\n",
      "---+---+---\n",
      " O | O | X\n",
      "---+---+---\n",
      "   | O |  \n",
      "---+---+---\n",
      "\n",
      "AI makes move at (0, 0):\n",
      "Board State at Generation 7:\n",
      " X | X | X\n",
      "---+---+---\n",
      " O | O | X\n",
      "---+---+---\n",
      "   | O |  \n",
      "---+---+---\n",
      "\n",
      "Game over. Winner: AI\n"
     ]
    }
   ],
   "source": [
    "def play_game():\n",
    "    game = TicTacToe()\n",
    "    generation = 0\n",
    "    \n",
    "    # Play the game until it's over\n",
    "    while not game.game_over:\n",
    "        # AI's turn\n",
    "        if game.current_turn == 'X':\n",
    "            move = MCTS(game.clone(), iterations=1000)\n",
    "            print(f\"AI makes move at {move}:\")\n",
    "            game.move(*move)\n",
    "            generation += 1\n",
    "            game.print_board(generation)\n",
    "        # Opponent's turn\n",
    "        else:\n",
    "            possible_moves = game.get_legal_moves()\n",
    "            if possible_moves:\n",
    "                move = random.choice(possible_moves)\n",
    "                print(f\"Opponent makes move at {move}:\")\n",
    "                game.move(*move)\n",
    "                generation += 1\n",
    "                game.print_board(generation)\n",
    "            else:\n",
    "                print(\"No legal moves available. Game over.\")\n",
    "                break\n",
    "\n",
    "    # Announce the game result.\n",
    "    if game.winner:\n",
    "        print(f\"Game over. Winner: {'AI' if game.winner == 'X' else 'Opponent'}\")\n",
    "    else:\n",
    "        print(\"Game over. It's a draw.\")\n",
    "\n",
    "play_game()"
   ],
   "metadata": {
    "collapsed": false,
    "ExecuteTime": {
     "end_time": "2024-02-26T18:06:32.798940400Z",
     "start_time": "2024-02-26T18:06:31.904899200Z"
    }
   },
   "id": "25b40f4f160ec772",
   "execution_count": 187
  },
  {
   "cell_type": "markdown",
   "id": "88753424",
   "metadata": {},
   "source": [
    "## References\n",
    "***\n",
    "\n",
    "- Choudhary, A. (2018). Reinforcement Learning Guide: Solving the Multi-Armed Bandit Problem from Scratch in Python. [online] Analytics Vidhya. Available at: https://www.analyticsvidhya.com/blog/2018/09/reinforcement-multi-armed-bandit-scratch-python/ [Accessed 23 Feb. 2024]."
   ]
  },
  {
   "cell_type": "markdown",
   "id": "3c902e53e01be6b5",
   "metadata": {
    "id": "3c902e53e01be6b5"
   },
   "source": [
    "## Self Check\n",
    "***\n",
    "- Have you answered all questions to the best of your ability?\n",
    "Yes, we have.\n",
    "- Is all the required information on the front page, is the file name correct etc.?\n",
    "Indeed, all the required information on the front page has been included.\n",
    "- Anything else you can easily check? (details, terminology, arguments, clearly stated answers etc.?)\n",
    "We have checked, and everything looks good."
   ]
  }
 ],
 "metadata": {
  "colab": {
   "provenance": []
  },
  "kernelspec": {
   "display_name": "Python 3 (ipykernel)",
   "language": "python",
   "name": "python3"
  },
  "language_info": {
   "codemirror_mode": {
    "name": "ipython",
    "version": 3
   },
   "file_extension": ".py",
   "mimetype": "text/x-python",
   "name": "python",
   "nbconvert_exporter": "python",
   "pygments_lexer": "ipython3",
   "version": "3.10.13"
  }
 },
 "nbformat": 4,
 "nbformat_minor": 5
}
