{
 "cells": [
  {
   "cell_type": "markdown",
   "id": "3d3015b54e8fec5a",
   "metadata": {
    "collapsed": false
   },
   "source": [
    "## Assignment 2: AI Problem Solving\n",
    "***\n",
    "## Group Members:\n",
    "### Nils Dunlop, e-mail: gusdunlni@student.gu.se\n",
    "### Francisco Alejandro Erazo Piza, e-mail: guserafr@student.gu.se"
   ]
  },
  {
   "cell_type": "markdown",
   "id": "4ba9572b",
   "metadata": {},
   "source": [
    "## Problem 1: Reading and reflection"
   ]
  }
 ],
 "metadata": {
  "kernelspec": {
   "display_name": "Python 3",
   "language": "python",
   "name": "python3"
  },
  "language_info": {
   "codemirror_mode": {
    "name": "ipython",
    "version": 2
   },
   "file_extension": ".py",
   "mimetype": "text/x-python",
   "name": "python",
   "nbconvert_exporter": "python",
   "pygments_lexer": "ipython2",
   "version": "2.7.6"
  }
 },
 "nbformat": 4,
 "nbformat_minor": 5
}
