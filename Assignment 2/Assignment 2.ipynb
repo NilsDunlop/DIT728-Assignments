{
 "cells": [
  {
   "cell_type": "markdown",
   "id": "3d3015b54e8fec5a",
   "metadata": {
    "collapsed": false
   },
   "source": [
    "## Assignment 2: Recommendation Systems\n",
    "## Group Members:\n",
    "### Nils Dunlop, e-mail: gusdunlni@student.gu.se\n",
    "### Francisco Alejandro Erazo Piza, e-mail: guserafr@student.gu.se"
   ]
  },
  {
   "cell_type": "markdown",
   "id": "4ba9572b",
   "metadata": {},
   "source": [
    "## Problem 1: Reading and reflection\n",
    "***\n",
    "\n",
    "### Key Takeaways:\n",
    "\n",
    "- The Netflix Prize was initiated in October 2006. It was a significant event in the field of recommendation systems. Netflix released a dataset of 100 million movie ratings to stimulate the development of an algorithm that could outperform their existing Cinematch system. This challenge attracted wide attention and participation from the global data science community​​​​.\n",
    "- The existing Cinematch system used a variant of Pearson's correlation for recommending movies. The accuracy of recommendations was quantified using Root Mean Squared Error (RMSE), with Cinematch showing a 10% improvement over average movie ratings​​.\n",
    "- The dataset provided by Netflix included over 100 million ratings from nearly 480,000 subscribers. The competition focused on predicting withheld ratings, with the RMSE of these predictions being the key performance metric​​.\n",
    "- The challenge promoted a collaborative environment with participants sharing insights and techniques. It also led to the application of various models and techniques, significantly advancing the field​​.\n",
    "- An important point discussed is the use of a diverse set of models to improve recommendation accuracy. This approach contrasts with relying on a single model, highlighting the benefits of integrating different algorithms and data processing techniques to enhance predictive performance​​.\n",
    "- The paper also study into refining existing methodologies. This includes optimizing algorithms and tweaking system parameters to achieve better precision in recommendations. The focus is on incremental improvements, indicating that even small enhancements can significantly impact overall system performance​​.\n",
    "\n",
    "### Design Features:\n",
    "- **Data**: The Netflix challenge utilized a vast dataset, which is a crucial element in building effective recommendation systems. This large volume of data enables the capture of a wide range of user preferences, leading to more personalized and accurate recommendations. In other applications, such as recommending niche market products or in domains with privacy concerns, the data might be much more limited, requiring different approaches that are less reliant on massive datasets.\n",
    "\n",
    "- **Evaluation Metric (RMSE)**: RMSE was chosen as the metric to measure the accuracy of the recommendation algorithms in the Netflix Prize. This metric effectively quantifies the average prediction error, making it suitable for a large-scale, diverse dataset like Netflix's. However, in other recommendation system applications, especially where user engagement or conversion is more critical than rating prediction accuracy, alternative metrics like click-through rates or conversion rates might be more appropriate.\n"
   ]
  },
  {
   "cell_type": "markdown",
   "id": "f4705c58",
   "metadata": {},
   "source": [
    "## Problem 2: Implementation\n",
    "***"
   ]
  },
  {
   "cell_type": "code",
   "execution_count": null,
   "id": "b0c3b6d0",
   "metadata": {
    "vscode": {
     "languageId": "plaintext"
    }
   },
   "outputs": [],
   "source": []
  }
 ],
 "metadata": {
  "kernelspec": {
   "display_name": "Python 3",
   "language": "python",
   "name": "python3"
  },
  "language_info": {
   "codemirror_mode": {
    "name": "ipython",
    "version": 2
   },
   "file_extension": ".py",
   "mimetype": "text/x-python",
   "name": "python",
   "nbconvert_exporter": "python",
   "pygments_lexer": "ipython2",
   "version": "2.7.6"
  }
 },
 "nbformat": 4,
 "nbformat_minor": 5
}
